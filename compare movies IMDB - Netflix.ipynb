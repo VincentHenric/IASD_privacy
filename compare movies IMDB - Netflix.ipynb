{
 "cells": [
  {
   "cell_type": "markdown",
   "metadata": {},
   "source": [
    "# Matching IMDB data with Netflix movies\n",
    "\n",
    "This Notebook explores to what extent the number of votes and ratings can be used to match Netflix and IMDB movies. This notebook assumes IMDB/Netflix data have correctly been preprocessed (`make imdb`, `make netflix`)."
   ]
  },
  {
   "cell_type": "code",
   "execution_count": 1,
   "metadata": {},
   "outputs": [],
   "source": [
    "import numpy as np\n",
    "import pandas as pd\n",
    "import matplotlib.pyplot as plt\n",
    "\n",
    "import scipy\n",
    "from scipy.optimize import linear_sum_assignment"
   ]
  },
  {
   "cell_type": "code",
   "execution_count": 2,
   "metadata": {},
   "outputs": [
    {
     "data": {
      "text/html": [
       "<div>\n",
       "<style scoped>\n",
       "    .dataframe tbody tr th:only-of-type {\n",
       "        vertical-align: middle;\n",
       "    }\n",
       "\n",
       "    .dataframe tbody tr th {\n",
       "        vertical-align: top;\n",
       "    }\n",
       "\n",
       "    .dataframe thead th {\n",
       "        text-align: right;\n",
       "    }\n",
       "</style>\n",
       "<table border=\"1\" class=\"dataframe\">\n",
       "  <thead>\n",
       "    <tr style=\"text-align: right;\">\n",
       "      <th></th>\n",
       "      <th>averageRating_netflix</th>\n",
       "      <th>numVotes_netflix</th>\n",
       "      <th>averageRating_imdb</th>\n",
       "      <th>numVotes_imdb</th>\n",
       "    </tr>\n",
       "    <tr>\n",
       "      <th>movieId</th>\n",
       "      <th></th>\n",
       "      <th></th>\n",
       "      <th></th>\n",
       "      <th></th>\n",
       "    </tr>\n",
       "  </thead>\n",
       "  <tbody>\n",
       "    <tr>\n",
       "      <th>148</th>\n",
       "      <td>3.304947</td>\n",
       "      <td>44388</td>\n",
       "      <td>3.35</td>\n",
       "      <td>82586</td>\n",
       "    </tr>\n",
       "    <tr>\n",
       "      <th>471</th>\n",
       "      <td>4.071333</td>\n",
       "      <td>9000</td>\n",
       "      <td>4.25</td>\n",
       "      <td>155938</td>\n",
       "    </tr>\n",
       "    <tr>\n",
       "      <th>833</th>\n",
       "      <td>3.516949</td>\n",
       "      <td>16756</td>\n",
       "      <td>3.30</td>\n",
       "      <td>20414</td>\n",
       "    </tr>\n",
       "    <tr>\n",
       "      <th>1088</th>\n",
       "      <td>2.865306</td>\n",
       "      <td>490</td>\n",
       "      <td>3.85</td>\n",
       "      <td>1380</td>\n",
       "    </tr>\n",
       "    <tr>\n",
       "      <th>1238</th>\n",
       "      <td>3.392857</td>\n",
       "      <td>3864</td>\n",
       "      <td>3.35</td>\n",
       "      <td>7398</td>\n",
       "    </tr>\n",
       "  </tbody>\n",
       "</table>\n",
       "</div>"
      ],
      "text/plain": [
       "         averageRating_netflix  numVotes_netflix  averageRating_imdb  \\\n",
       "movieId                                                                \n",
       "148                   3.304947             44388                3.35   \n",
       "471                   4.071333              9000                4.25   \n",
       "833                   3.516949             16756                3.30   \n",
       "1088                  2.865306               490                3.85   \n",
       "1238                  3.392857              3864                3.35   \n",
       "\n",
       "         numVotes_imdb  \n",
       "movieId                 \n",
       "148              82586  \n",
       "471             155938  \n",
       "833              20414  \n",
       "1088              1380  \n",
       "1238              7398  "
      ]
     },
     "execution_count": 2,
     "metadata": {},
     "output_type": "execute_result"
    }
   ],
   "source": [
    "df = pd.read_csv('datasets/common_movies.csv', index_col=0)\n",
    "df['averageRating_imdb'] = df['averageRating'] / 2\n",
    "df['numVotes_imdb'] = df['numVotes']\n",
    "df = df.drop(['averageRating', 'numVotes'], axis=1)\n",
    "df.head()"
   ]
  },
  {
   "cell_type": "code",
   "execution_count": 3,
   "metadata": {},
   "outputs": [
    {
     "data": {
      "image/png": "[encoded data removed]",
      "text/plain": [
       "<Figure size 432x288 with 1 Axes>"
      ]
     },
     "metadata": {
      "needs_background": "light"
     },
     "output_type": "display_data"
    }
   ],
   "source": [
    "plt.scatter(np.log(df['numVotes_netflix']), np.log(df['numVotes_imdb']))\n",
    "plt.xlabel('log of the number of votes netflix')\n",
    "plt.ylabel('log of the number of votes imdb')\n",
    "\n",
    "plt.title('scatter plot of the number of ratings for IMDB and Netflix')\n",
    "\n",
    "plt.tight_layout()\n",
    "plt.savefig('scatter_nb_votes.png')\n",
    "plt.show()"
   ]
  },
  {
   "cell_type": "code",
   "execution_count": 4,
   "metadata": {},
   "outputs": [
    {
     "name": "stdout",
     "output_type": "stream",
     "text": [
      "1.5921153779426935\n",
      "1.8378601371184782\n"
     ]
    },
    {
     "data": {
      "image/png": "[encoded data removed]",
      "text/plain": [
       "<Figure size 432x288 with 1 Axes>"
      ]
     },
     "metadata": {
      "needs_background": "light"
     },
     "output_type": "display_data"
    }
   ],
   "source": [
    "print(np.abs(np.log(df['numVotes_netflix']/df['numVotes_netflix'].max())-np.log(df['numVotes_imdb']/df['numVotes_imdb'].max())).mean())\n",
    "print((np.abs(np.log(df['numVotes_netflix']/df['numVotes_netflix'].max())-np.log(df['numVotes_imdb']/df['numVotes_imdb'].max()))).std())\n",
    "np.abs(np.log(df['numVotes_netflix']/df['numVotes_netflix'].max())-np.log(df['numVotes_imdb']/df['numVotes_imdb'].max())).plot.hist(bins=50, label='distribution of the difference in the \\n absolute value of the log of the number of votes')\n",
    "plt.hist(np.random.exponential(scale=1.6, size=10000), alpha=0.5, bins=50, label='exponential distribution')\n",
    "\n",
    "plt.title('histogram of the absolute difference of the \\n logs of the number of votes between IMDB and Netflix')\n",
    "plt.legend()\n",
    "\n",
    "plt.tight_layout()\n",
    "plt.savefig('distributions_numvotes_expo.png')\n",
    "plt.show()"
   ]
  },
  {
   "cell_type": "code",
   "execution_count": 5,
   "metadata": {},
   "outputs": [
    {
     "name": "stdout",
     "output_type": "stream",
     "text": [
      "1.307788792197381\n",
      "2.0499590797197556\n"
     ]
    },
    {
     "data": {
      "image/png": "[encoded data removed]",
      "text/plain": [
       "<Figure size 432x288 with 1 Axes>"
      ]
     },
     "metadata": {
      "needs_background": "light"
     },
     "output_type": "display_data"
    }
   ],
   "source": [
    "print((np.log(df['numVotes_netflix']/df['numVotes_netflix'].max())-np.log(df['numVotes_imdb']/df['numVotes_imdb'].max())).mean())\n",
    "print((np.log(df['numVotes_netflix']/df['numVotes_netflix'].max())-np.log(df['numVotes_imdb']/df['numVotes_imdb'].max())).std())\n",
    "(np.log(df['numVotes_netflix']/df['numVotes_netflix'].max())-np.log(df['numVotes_imdb']/df['numVotes_imdb'].max())).plot.hist(density=True, bins=100, label='distribution of the difference in the log of the number of votes')\n",
    "plt.hist(np.random.normal(loc=1.3, scale=2, size=10000), bins=100, density=True, alpha=0.5, label='gaussian distribution')\n",
    "\n",
    "plt.title('histogram of the difference of the \\n logs of the number of votes between IMDB and Netflix')\n",
    "plt.legend()\n",
    "\n",
    "plt.tight_layout()\n",
    "plt.savefig('distributions_numvotes_gaussian.png')\n",
    "plt.show()"
   ]
  },
  {
   "cell_type": "code",
   "execution_count": 6,
   "metadata": {},
   "outputs": [
    {
     "data": {
      "image/png": "[encoded data removed]",
      "text/plain": [
       "<Figure size 432x288 with 1 Axes>"
      ]
     },
     "metadata": {
      "needs_background": "light"
     },
     "output_type": "display_data"
    }
   ],
   "source": [
    "plt.scatter(df['averageRating_netflix'], df['averageRating_imdb'])\n",
    "plt.xlim((1,5))\n",
    "plt.ylim((1,5))\n",
    "plt.xlabel('average rating netflix')\n",
    "plt.ylabel('average rating imdb')\n",
    "plt.title('scatter plot of the average ratings for IMDB and Netflix')\n",
    "\n",
    "plt.tight_layout()\n",
    "plt.savefig('scatter_avg_ratings.png')\n",
    "plt.show()"
   ]
  },
  {
   "cell_type": "code",
   "execution_count": 7,
   "metadata": {},
   "outputs": [
    {
     "name": "stdout",
     "output_type": "stream",
     "text": [
      "0.3277088985291847\n",
      "0.29184205470589375\n"
     ]
    },
    {
     "data": {
      "image/png": "[encoded data removed]",
      "text/plain": [
       "<Figure size 432x288 with 1 Axes>"
      ]
     },
     "metadata": {
      "needs_background": "light"
     },
     "output_type": "display_data"
    }
   ],
   "source": [
    "print((np.abs(df['averageRating_netflix']-df['averageRating_imdb'])).mean())\n",
    "print((np.abs(df['averageRating_netflix']-df['averageRating_imdb'])).std())\n",
    "np.abs(df['averageRating_netflix']-df['averageRating_imdb']).plot.hist(bins=50, label='distribution of the difference in the average rating')\n",
    "plt.hist(np.random.exponential(scale=0.33, size=10000), alpha=0.5, bins=50, label='exponential distribution')\n",
    "\n",
    "plt.title('histogram of the absolute difference of the \\n average of ratings between IMDB and Netflix')\n",
    "plt.legend()\n",
    "\n",
    "plt.tight_layout()\n",
    "plt.savefig('distributions_avgrating_expo.png')\n",
    "plt.show()"
   ]
  },
  {
   "cell_type": "code",
   "execution_count": 8,
   "metadata": {},
   "outputs": [
    {
     "name": "stdout",
     "output_type": "stream",
     "text": [
      "-0.039459093504894065\n",
      "0.43705660493190795\n"
     ]
    },
    {
     "data": {
      "image/png": "[encoded data removed]",
      "text/plain": [
       "<Figure size 432x288 with 1 Axes>"
      ]
     },
     "metadata": {
      "needs_background": "light"
     },
     "output_type": "display_data"
    }
   ],
   "source": [
    "print((df['averageRating_netflix']-df['averageRating_imdb']).mean())\n",
    "print((df['averageRating_netflix']-df['averageRating_imdb']).std())\n",
    "(df['averageRating_netflix']-df['averageRating_imdb']).plot.hist(density=True, bins=100,\n",
    "                                                                label='distribution of the difference of the average rating')\n",
    "plt.hist(np.random.normal(loc=0, scale=0.4, size=10000), bins=100, density=True, alpha=0.5,\n",
    "        label='gaussian distribution')\n",
    "\n",
    "plt.title('histogram of the difference of \\n the average rating between IMDB and Netflix')\n",
    "plt.legend()\n",
    "\n",
    "plt.tight_layout()\n",
    "plt.savefig('distributions_avgrating_gaussian.png')\n",
    "plt.show()"
   ]
  },
  {
   "cell_type": "markdown",
   "metadata": {},
   "source": [
    "### bipartite matching"
   ]
  },
  {
   "cell_type": "code",
   "execution_count": 9,
   "metadata": {},
   "outputs": [],
   "source": [
    "def exp_similarity(x,y):\n",
    "    return 1-np.exp(-np.abs(x-y))"
   ]
  },
  {
   "cell_type": "code",
   "execution_count": 10,
   "metadata": {},
   "outputs": [],
   "source": [
    "dis = scipy.spatial.distance.cdist(np.expand_dims(df.iloc[:30]['averageRating_netflix'].values, axis=-1), np.expand_dims(df.iloc[:30]['averageRating_imdb'].values, axis=-1), metric='cityblock')"
   ]
  },
  {
   "cell_type": "code",
   "execution_count": 11,
   "metadata": {},
   "outputs": [
    {
     "name": "stdout",
     "output_type": "stream",
     "text": [
      "accurate correspondance : 3 over 30\n"
     ]
    },
    {
     "data": {
      "text/html": [
       "<div>\n",
       "<style scoped>\n",
       "    .dataframe tbody tr th:only-of-type {\n",
       "        vertical-align: middle;\n",
       "    }\n",
       "\n",
       "    .dataframe tbody tr th {\n",
       "        vertical-align: top;\n",
       "    }\n",
       "\n",
       "    .dataframe thead th {\n",
       "        text-align: right;\n",
       "    }\n",
       "</style>\n",
       "<table border=\"1\" class=\"dataframe\">\n",
       "  <thead>\n",
       "    <tr style=\"text-align: right;\">\n",
       "      <th></th>\n",
       "      <th>movie netflix index</th>\n",
       "      <th>movie imdb index</th>\n",
       "    </tr>\n",
       "  </thead>\n",
       "  <tbody>\n",
       "    <tr>\n",
       "      <th>0</th>\n",
       "      <td>0</td>\n",
       "      <td>4</td>\n",
       "    </tr>\n",
       "    <tr>\n",
       "      <th>1</th>\n",
       "      <td>1</td>\n",
       "      <td>1</td>\n",
       "    </tr>\n",
       "    <tr>\n",
       "      <th>2</th>\n",
       "      <td>2</td>\n",
       "      <td>18</td>\n",
       "    </tr>\n",
       "    <tr>\n",
       "      <th>3</th>\n",
       "      <td>3</td>\n",
       "      <td>16</td>\n",
       "    </tr>\n",
       "    <tr>\n",
       "      <th>4</th>\n",
       "      <td>4</td>\n",
       "      <td>20</td>\n",
       "    </tr>\n",
       "    <tr>\n",
       "      <th>5</th>\n",
       "      <td>5</td>\n",
       "      <td>25</td>\n",
       "    </tr>\n",
       "    <tr>\n",
       "      <th>6</th>\n",
       "      <td>6</td>\n",
       "      <td>24</td>\n",
       "    </tr>\n",
       "    <tr>\n",
       "      <th>7</th>\n",
       "      <td>7</td>\n",
       "      <td>2</td>\n",
       "    </tr>\n",
       "    <tr>\n",
       "      <th>8</th>\n",
       "      <td>8</td>\n",
       "      <td>3</td>\n",
       "    </tr>\n",
       "    <tr>\n",
       "      <th>9</th>\n",
       "      <td>9</td>\n",
       "      <td>28</td>\n",
       "    </tr>\n",
       "    <tr>\n",
       "      <th>10</th>\n",
       "      <td>10</td>\n",
       "      <td>13</td>\n",
       "    </tr>\n",
       "    <tr>\n",
       "      <th>11</th>\n",
       "      <td>11</td>\n",
       "      <td>22</td>\n",
       "    </tr>\n",
       "    <tr>\n",
       "      <th>12</th>\n",
       "      <td>12</td>\n",
       "      <td>12</td>\n",
       "    </tr>\n",
       "    <tr>\n",
       "      <th>13</th>\n",
       "      <td>13</td>\n",
       "      <td>5</td>\n",
       "    </tr>\n",
       "    <tr>\n",
       "      <th>14</th>\n",
       "      <td>14</td>\n",
       "      <td>26</td>\n",
       "    </tr>\n",
       "    <tr>\n",
       "      <th>15</th>\n",
       "      <td>15</td>\n",
       "      <td>7</td>\n",
       "    </tr>\n",
       "    <tr>\n",
       "      <th>16</th>\n",
       "      <td>16</td>\n",
       "      <td>29</td>\n",
       "    </tr>\n",
       "    <tr>\n",
       "      <th>17</th>\n",
       "      <td>17</td>\n",
       "      <td>21</td>\n",
       "    </tr>\n",
       "    <tr>\n",
       "      <th>18</th>\n",
       "      <td>18</td>\n",
       "      <td>8</td>\n",
       "    </tr>\n",
       "    <tr>\n",
       "      <th>19</th>\n",
       "      <td>19</td>\n",
       "      <td>14</td>\n",
       "    </tr>\n",
       "    <tr>\n",
       "      <th>20</th>\n",
       "      <td>20</td>\n",
       "      <td>9</td>\n",
       "    </tr>\n",
       "    <tr>\n",
       "      <th>21</th>\n",
       "      <td>21</td>\n",
       "      <td>15</td>\n",
       "    </tr>\n",
       "    <tr>\n",
       "      <th>22</th>\n",
       "      <td>22</td>\n",
       "      <td>10</td>\n",
       "    </tr>\n",
       "    <tr>\n",
       "      <th>23</th>\n",
       "      <td>23</td>\n",
       "      <td>23</td>\n",
       "    </tr>\n",
       "    <tr>\n",
       "      <th>24</th>\n",
       "      <td>24</td>\n",
       "      <td>0</td>\n",
       "    </tr>\n",
       "    <tr>\n",
       "      <th>25</th>\n",
       "      <td>25</td>\n",
       "      <td>11</td>\n",
       "    </tr>\n",
       "    <tr>\n",
       "      <th>26</th>\n",
       "      <td>26</td>\n",
       "      <td>27</td>\n",
       "    </tr>\n",
       "    <tr>\n",
       "      <th>27</th>\n",
       "      <td>27</td>\n",
       "      <td>17</td>\n",
       "    </tr>\n",
       "    <tr>\n",
       "      <th>28</th>\n",
       "      <td>28</td>\n",
       "      <td>19</td>\n",
       "    </tr>\n",
       "    <tr>\n",
       "      <th>29</th>\n",
       "      <td>29</td>\n",
       "      <td>6</td>\n",
       "    </tr>\n",
       "  </tbody>\n",
       "</table>\n",
       "</div>"
      ],
      "text/plain": [
       "    movie netflix index  movie imdb index\n",
       "0                     0                 4\n",
       "1                     1                 1\n",
       "2                     2                18\n",
       "3                     3                16\n",
       "4                     4                20\n",
       "5                     5                25\n",
       "6                     6                24\n",
       "7                     7                 2\n",
       "8                     8                 3\n",
       "9                     9                28\n",
       "10                   10                13\n",
       "11                   11                22\n",
       "12                   12                12\n",
       "13                   13                 5\n",
       "14                   14                26\n",
       "15                   15                 7\n",
       "16                   16                29\n",
       "17                   17                21\n",
       "18                   18                 8\n",
       "19                   19                14\n",
       "20                   20                 9\n",
       "21                   21                15\n",
       "22                   22                10\n",
       "23                   23                23\n",
       "24                   24                 0\n",
       "25                   25                11\n",
       "26                   26                27\n",
       "27                   27                17\n",
       "28                   28                19\n",
       "29                   29                 6"
      ]
     },
     "execution_count": 11,
     "metadata": {},
     "output_type": "execute_result"
    }
   ],
   "source": [
    "idx1, idx2 = linear_sum_assignment(dis)\n",
    "res = pd.DataFrame(np.concatenate((idx1[:,None], idx2[:,None]), axis=1), columns = ['movie netflix index', 'movie imdb index'])\n",
    "print('accurate correspondance : {} over {}'.format((res['movie netflix index'] == res['movie imdb index']).sum(), len(res)))\n",
    "res"
   ]
  },
  {
   "cell_type": "code",
   "execution_count": 12,
   "metadata": {},
   "outputs": [],
   "source": [
    "dis = scipy.spatial.distance.cdist(np.expand_dims(df.iloc[:30]['averageRating_netflix'].values, axis=-1), np.expand_dims(df.iloc[:30]['averageRating_imdb'].values, axis=-1), metric=exp_similarity)"
   ]
  },
  {
   "cell_type": "code",
   "execution_count": 13,
   "metadata": {},
   "outputs": [
    {
     "name": "stdout",
     "output_type": "stream",
     "text": [
      "accurate correspondance : 3 over 30\n"
     ]
    },
    {
     "data": {
      "text/html": [
       "<div>\n",
       "<style scoped>\n",
       "    .dataframe tbody tr th:only-of-type {\n",
       "        vertical-align: middle;\n",
       "    }\n",
       "\n",
       "    .dataframe tbody tr th {\n",
       "        vertical-align: top;\n",
       "    }\n",
       "\n",
       "    .dataframe thead th {\n",
       "        text-align: right;\n",
       "    }\n",
       "</style>\n",
       "<table border=\"1\" class=\"dataframe\">\n",
       "  <thead>\n",
       "    <tr style=\"text-align: right;\">\n",
       "      <th></th>\n",
       "      <th>movie netflix index</th>\n",
       "      <th>movie imdb index</th>\n",
       "    </tr>\n",
       "  </thead>\n",
       "  <tbody>\n",
       "    <tr>\n",
       "      <th>0</th>\n",
       "      <td>0</td>\n",
       "      <td>4</td>\n",
       "    </tr>\n",
       "    <tr>\n",
       "      <th>1</th>\n",
       "      <td>1</td>\n",
       "      <td>1</td>\n",
       "    </tr>\n",
       "    <tr>\n",
       "      <th>2</th>\n",
       "      <td>2</td>\n",
       "      <td>18</td>\n",
       "    </tr>\n",
       "    <tr>\n",
       "      <th>3</th>\n",
       "      <td>3</td>\n",
       "      <td>16</td>\n",
       "    </tr>\n",
       "    <tr>\n",
       "      <th>4</th>\n",
       "      <td>4</td>\n",
       "      <td>20</td>\n",
       "    </tr>\n",
       "    <tr>\n",
       "      <th>5</th>\n",
       "      <td>5</td>\n",
       "      <td>25</td>\n",
       "    </tr>\n",
       "    <tr>\n",
       "      <th>6</th>\n",
       "      <td>6</td>\n",
       "      <td>24</td>\n",
       "    </tr>\n",
       "    <tr>\n",
       "      <th>7</th>\n",
       "      <td>7</td>\n",
       "      <td>2</td>\n",
       "    </tr>\n",
       "    <tr>\n",
       "      <th>8</th>\n",
       "      <td>8</td>\n",
       "      <td>3</td>\n",
       "    </tr>\n",
       "    <tr>\n",
       "      <th>9</th>\n",
       "      <td>9</td>\n",
       "      <td>28</td>\n",
       "    </tr>\n",
       "    <tr>\n",
       "      <th>10</th>\n",
       "      <td>10</td>\n",
       "      <td>13</td>\n",
       "    </tr>\n",
       "    <tr>\n",
       "      <th>11</th>\n",
       "      <td>11</td>\n",
       "      <td>22</td>\n",
       "    </tr>\n",
       "    <tr>\n",
       "      <th>12</th>\n",
       "      <td>12</td>\n",
       "      <td>12</td>\n",
       "    </tr>\n",
       "    <tr>\n",
       "      <th>13</th>\n",
       "      <td>13</td>\n",
       "      <td>11</td>\n",
       "    </tr>\n",
       "    <tr>\n",
       "      <th>14</th>\n",
       "      <td>14</td>\n",
       "      <td>26</td>\n",
       "    </tr>\n",
       "    <tr>\n",
       "      <th>15</th>\n",
       "      <td>15</td>\n",
       "      <td>7</td>\n",
       "    </tr>\n",
       "    <tr>\n",
       "      <th>16</th>\n",
       "      <td>16</td>\n",
       "      <td>29</td>\n",
       "    </tr>\n",
       "    <tr>\n",
       "      <th>17</th>\n",
       "      <td>17</td>\n",
       "      <td>21</td>\n",
       "    </tr>\n",
       "    <tr>\n",
       "      <th>18</th>\n",
       "      <td>18</td>\n",
       "      <td>8</td>\n",
       "    </tr>\n",
       "    <tr>\n",
       "      <th>19</th>\n",
       "      <td>19</td>\n",
       "      <td>14</td>\n",
       "    </tr>\n",
       "    <tr>\n",
       "      <th>20</th>\n",
       "      <td>20</td>\n",
       "      <td>9</td>\n",
       "    </tr>\n",
       "    <tr>\n",
       "      <th>21</th>\n",
       "      <td>21</td>\n",
       "      <td>15</td>\n",
       "    </tr>\n",
       "    <tr>\n",
       "      <th>22</th>\n",
       "      <td>22</td>\n",
       "      <td>10</td>\n",
       "    </tr>\n",
       "    <tr>\n",
       "      <th>23</th>\n",
       "      <td>23</td>\n",
       "      <td>23</td>\n",
       "    </tr>\n",
       "    <tr>\n",
       "      <th>24</th>\n",
       "      <td>24</td>\n",
       "      <td>0</td>\n",
       "    </tr>\n",
       "    <tr>\n",
       "      <th>25</th>\n",
       "      <td>25</td>\n",
       "      <td>5</td>\n",
       "    </tr>\n",
       "    <tr>\n",
       "      <th>26</th>\n",
       "      <td>26</td>\n",
       "      <td>27</td>\n",
       "    </tr>\n",
       "    <tr>\n",
       "      <th>27</th>\n",
       "      <td>27</td>\n",
       "      <td>17</td>\n",
       "    </tr>\n",
       "    <tr>\n",
       "      <th>28</th>\n",
       "      <td>28</td>\n",
       "      <td>19</td>\n",
       "    </tr>\n",
       "    <tr>\n",
       "      <th>29</th>\n",
       "      <td>29</td>\n",
       "      <td>6</td>\n",
       "    </tr>\n",
       "  </tbody>\n",
       "</table>\n",
       "</div>"
      ],
      "text/plain": [
       "    movie netflix index  movie imdb index\n",
       "0                     0                 4\n",
       "1                     1                 1\n",
       "2                     2                18\n",
       "3                     3                16\n",
       "4                     4                20\n",
       "5                     5                25\n",
       "6                     6                24\n",
       "7                     7                 2\n",
       "8                     8                 3\n",
       "9                     9                28\n",
       "10                   10                13\n",
       "11                   11                22\n",
       "12                   12                12\n",
       "13                   13                11\n",
       "14                   14                26\n",
       "15                   15                 7\n",
       "16                   16                29\n",
       "17                   17                21\n",
       "18                   18                 8\n",
       "19                   19                14\n",
       "20                   20                 9\n",
       "21                   21                15\n",
       "22                   22                10\n",
       "23                   23                23\n",
       "24                   24                 0\n",
       "25                   25                 5\n",
       "26                   26                27\n",
       "27                   27                17\n",
       "28                   28                19\n",
       "29                   29                 6"
      ]
     },
     "execution_count": 13,
     "metadata": {},
     "output_type": "execute_result"
    }
   ],
   "source": [
    "idx1, idx2 = linear_sum_assignment(dis)\n",
    "res = pd.DataFrame(np.concatenate((idx1[:,None], idx2[:,None]), axis=1), columns = ['movie netflix index', 'movie imdb index'])\n",
    "print('accurate correspondance : {} over {}'.format((res['movie netflix index'] == res['movie imdb index']).sum(), len(res)))\n",
    "res"
   ]
  },
  {
   "cell_type": "code",
   "execution_count": 14,
   "metadata": {},
   "outputs": [
    {
     "data": {
      "text/plain": [
       "<matplotlib.collections.PathCollection at 0x7f12e2515a20>"
      ]
     },
     "execution_count": 14,
     "metadata": {},
     "output_type": "execute_result"
    },
    {
     "data": {
      "image/png": "[encoded data removed]",
      "text/plain": [
       "<Figure size 432x288 with 1 Axes>"
      ]
     },
     "metadata": {
      "needs_background": "light"
     },
     "output_type": "display_data"
    }
   ],
   "source": [
    "plt.scatter(df.iloc[:30]['averageRating_netflix'], df.iloc[:30]['averageRating_imdb'])"
   ]
  },
  {
   "cell_type": "code",
   "execution_count": null,
   "metadata": {},
   "outputs": [],
   "source": []
  }
 ],
 "metadata": {
  "kernelspec": {
   "display_name": "Python 3",
   "language": "python",
   "name": "python3"
  },
  "language_info": {
   "codemirror_mode": {
    "name": "ipython",
    "version": 3
   },
   "file_extension": ".py",
   "mimetype": "text/x-python",
   "name": "python",
   "nbconvert_exporter": "python",
   "pygments_lexer": "ipython3",
   "version": "3.7.3"
  }
 },
 "nbformat": 4,
 "nbformat_minor": 4
}
