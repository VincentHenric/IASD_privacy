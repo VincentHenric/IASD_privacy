{
  "nbformat": 4,
  "nbformat_minor": 0,
  "metadata": {
    "colab": {
      "name": "privacy_project.ipynb",
      "provenance": [],
      "collapsed_sections": [],
      "toc_visible": true,
      "machine_shape": "hm"
    },
    "kernelspec": {
      "display_name": "Python 3",
      "language": "python",
      "name": "python3"
    },
    "language_info": {
      "codemirror_mode": {
        "name": "ipython",
        "version": 3
      },
      "file_extension": ".py",
      "mimetype": "text/x-python",
      "name": "python",
      "nbconvert_exporter": "python",
      "pygments_lexer": "ipython3",
      "version": "3.7.4"
    }
  },
  "cells": [
    {
      "cell_type": "code",
      "metadata": {
        "colab_type": "code",
        "id": "pxlxcw_J6gFv",
        "colab": {}
      },
      "source": [
        "#  https://www.kaggle.com/lpanda/netflix-data"
      ],
      "execution_count": 0,
      "outputs": []
    },
    {
      "cell_type": "code",
      "metadata": {
        "colab_type": "code",
        "id": "iMpfYFFU0baH",
        "colab": {}
      },
      "source": [
        "import numpy as np # linear algebra\n",
        "import pandas as pd # data processing, CSV file I/O (e.g. pd.read_csv)\n",
        "\n",
        "# import dask.dataframe as dd # asynchronous load and subset which is useful for large dataset sampling\n",
        "# from dask.distributed import Client\n",
        "\n",
        "# # visualization\n",
        "# import seaborn as sns\n",
        "# import matplotlib.pyplot as plt\n",
        "# sns.set(style=\"whitegrid\", context='paper')\n",
        "# sns.set(rc={'figure.figsize':(18,5)})\n",
        "\n",
        "# from functools import wraps # a ditty decorator\n",
        "\n",
        "# from sklearn.metrics.pairwise import cosine_similarity\n",
        "\n",
        "import random # random integers\n",
        "import os # i/o read files\n",
        "import time # time my work\n",
        "import gc  # clear ram"
      ],
      "execution_count": 0,
      "outputs": []
    },
    {
      "cell_type": "code",
      "metadata": {
        "colab_type": "code",
        "id": "buEQ7xg759iG",
        "outputId": "6eb144c8-96e8-4e31-e79a-7bd5504aa67b",
        "colab": {
          "base_uri": "https://localhost:8080/",
          "height": 350
        }
      },
      "source": [
        "# Mount drive\n",
        "import os\n",
        "from google.colab import drive\n",
        "%cd /content\n",
        "drive.mount('/content/drive', force_remount=True)\n",
        "%cd 'drive/My Drive/Colab Notebooks/privacy'\n",
        "%ls -l\n",
        "print(os.listdir())"
      ],
      "execution_count": 0,
      "outputs": [
        {
          "output_type": "stream",
          "text": [
            "/content\n",
            "Mounted at /content/drive\n",
            "/content/drive/My Drive/Colab Notebooks/privacy\n",
            "total 2741359\n",
            "-rw------- 1 root root        450 Feb 21 18:43 clean_data.py\n",
            "-rw------- 1 root root      16495 Mar  7 21:26 exp_0.txt\n",
            "-rw------- 1 root root      23321 Mar  8 01:26 exp_1.txt\n",
            "-rw------- 1 root root          0 Mar  8 01:26 exp_2.txt\n",
            "-rw------- 1 root root      17778 Mar  8 17:12 exp_3.txt\n",
            "-rw------- 1 root root      15170 Mar  8 19:23 exp_4.txt\n",
            "drwx------ 2 root root       4096 Feb 21 17:32 \u001b[0m\u001b[01;34mnetflix-prize-data\u001b[0m/\n",
            "-rw------- 1 root root      72265 Feb 23 11:23 privacy_project.ipynb\n",
            "-rw------- 1 root root      11475 Mar  7 16:44 privacy.py\n",
            "drwx------ 2 root root       4096 Feb 23 10:53 \u001b[01;34m__pycache__\u001b[0m/\n",
            "-rw------- 1 root root 2610540692 Feb 21 18:45 ratings.csv\n",
            "-rw------- 1 root root  178846767 Mar  8 14:49 title.akas.tsv.gz\n",
            "-rw------- 1 root root   17595459 Mar  8 14:47 title.ratings.tsv\n",
            "['netflix-prize-data', 'clean_data.py', 'ratings.csv', '__pycache__', 'privacy_project.ipynb', 'privacy.py', '.ipynb_checkpoints', 'exp_0.txt', 'exp_2.txt', 'exp_1.txt', 'exp_3.txt', 'title.ratings.tsv', 'title.akas.tsv.gz', 'exp_4.txt']\n"
          ],
          "name": "stdout"
        }
      ]
    },
    {
      "cell_type": "code",
      "metadata": {
        "id": "OrGW05v6a8TF",
        "colab_type": "code",
        "colab": {}
      },
      "source": [
        "%load_ext autoreload\n",
        "%autoreload 1\n",
        "\n",
        "%aimport privacy"
      ],
      "execution_count": 0,
      "outputs": []
    },
    {
      "cell_type": "code",
      "metadata": {
        "colab_type": "code",
        "id": "zqYea0diD7oY",
        "colab": {}
      },
      "source": [
        "# !cat netflix-prize-data/combined_data_1.txt netflix-prize-data/combined_data_2.txt netflix-prize-data/combined_data_3.txt netflix-prize-data/combined_data_4.txt | python clean_data.py >> ratings.csv"
      ],
      "execution_count": 0,
      "outputs": []
    },
    {
      "cell_type": "code",
      "metadata": {
        "colab_type": "code",
        "id": "UtWVdmxFD7s8",
        "outputId": "39aa324b-0d52-4709-f579-e3ce68bcd9e3",
        "colab": {
          "base_uri": "https://localhost:8080/",
          "height": 191
        }
      },
      "source": [
        "# !head -n 10 ratings.csv"
      ],
      "execution_count": 0,
      "outputs": [
        {
          "output_type": "stream",
          "text": [
            "movieId,custId,rating,date\n",
            "1,1488844,3,2005-09-06\n",
            "1,822109,5,2005-05-13\n",
            "1,885013,4,2005-10-19\n",
            "1,30878,4,2005-12-26\n",
            "1,823519,3,2004-05-03\n",
            "1,893988,3,2005-11-17\n",
            "1,124105,4,2004-08-05\n",
            "1,1248029,3,2004-04-22\n",
            "1,1842128,4,2004-05-09\n"
          ],
          "name": "stdout"
        }
      ]
    },
    {
      "cell_type": "markdown",
      "metadata": {
        "id": "97XxryOQmTbp",
        "colab_type": "text"
      },
      "source": [
        "### Import and cleaning"
      ]
    },
    {
      "cell_type": "code",
      "metadata": {
        "colab_type": "code",
        "id": "z7Wj4wz951_w",
        "outputId": "452a3c84-8850-4956-e6c6-1ebddb7e70ae",
        "colab": {
          "base_uri": "https://localhost:8080/",
          "height": 86
        }
      },
      "source": [
        "# df = pd.read_csv('ratings.csv', nrows = 100000, index_col = 1, dtype={'movieId':np.int16, 'custId':np.int32, 'rating':np.int8, 'date':'object'})\n",
        "df = pd.read_csv('ratings.csv', index_col = 1, dtype={'movieId':np.int16, 'custId':np.int32, 'rating':np.int8, 'date':'object'}, na_filter=False)\n",
        "# df = pd.read_csv('ratings.csv')\n",
        "\n",
        "print(df.memory_usage().sum()/1024**3)\n",
        "# iter_csv = pd.read_csv('file.csv', iterator=True, chunksize=1000)\n",
        "# df = pd.concat([chunk[chunk['field'] > constant] for chunk in iter_csv]\n",
        "\n",
        "print(df.shape)\n",
        "print(len(set(df.index)))\n",
        "print(df.index.max())"
      ],
      "execution_count": 0,
      "outputs": [
        {
          "output_type": "stream",
          "text": [
            "1.7780155250802636\n",
            "(100480507, 3)\n",
            "480189\n",
            "2649429\n"
          ],
          "name": "stdout"
        }
      ]
    },
    {
      "cell_type": "code",
      "metadata": {
        "id": "VrwJEUhNmQn7",
        "colab_type": "code",
        "outputId": "f77836c7-e027-488f-b314-44688def2c8b",
        "colab": {
          "base_uri": "https://localhost:8080/",
          "height": 307
        }
      },
      "source": [
        "print(df['date'].min())\n",
        "print(df['date'].max())\n",
        "MIN_DATE = '1999-11-11'\n",
        "MAX_DATE = '2005-12-31'\n",
        "print((pd.to_datetime(MAX_DATE) - pd.to_datetime(MIN_DATE)).days)\n",
        "\n",
        "df['days'] = ((pd.to_datetime(df['date']) - pd.to_datetime(MIN_DATE)).dt.days).astype(np.int16)\n",
        "df = df.drop('date', axis=1)\n",
        "# df.index = df.index.astype(np.int32)\n",
        "print(df.memory_usage().sum()/1024**3)\n",
        "df.head()"
      ],
      "execution_count": 0,
      "outputs": [
        {
          "output_type": "stream",
          "text": [
            "1999-11-11\n",
            "2005-12-31\n",
            "2242\n",
            "1.216536938212812\n"
          ],
          "name": "stdout"
        },
        {
          "output_type": "execute_result",
          "data": {
            "text/html": [
              "<div>\n",
              "<style scoped>\n",
              "    .dataframe tbody tr th:only-of-type {\n",
              "        vertical-align: middle;\n",
              "    }\n",
              "\n",
              "    .dataframe tbody tr th {\n",
              "        vertical-align: top;\n",
              "    }\n",
              "\n",
              "    .dataframe thead th {\n",
              "        text-align: right;\n",
              "    }\n",
              "</style>\n",
              "<table border=\"1\" class=\"dataframe\">\n",
              "  <thead>\n",
              "    <tr style=\"text-align: right;\">\n",
              "      <th></th>\n",
              "      <th>movieId</th>\n",
              "      <th>rating</th>\n",
              "      <th>days</th>\n",
              "    </tr>\n",
              "    <tr>\n",
              "      <th>custId</th>\n",
              "      <th></th>\n",
              "      <th></th>\n",
              "      <th></th>\n",
              "    </tr>\n",
              "  </thead>\n",
              "  <tbody>\n",
              "    <tr>\n",
              "      <th>1488844</th>\n",
              "      <td>1</td>\n",
              "      <td>3</td>\n",
              "      <td>2126</td>\n",
              "    </tr>\n",
              "    <tr>\n",
              "      <th>822109</th>\n",
              "      <td>1</td>\n",
              "      <td>5</td>\n",
              "      <td>2010</td>\n",
              "    </tr>\n",
              "    <tr>\n",
              "      <th>885013</th>\n",
              "      <td>1</td>\n",
              "      <td>4</td>\n",
              "      <td>2169</td>\n",
              "    </tr>\n",
              "    <tr>\n",
              "      <th>30878</th>\n",
              "      <td>1</td>\n",
              "      <td>4</td>\n",
              "      <td>2237</td>\n",
              "    </tr>\n",
              "    <tr>\n",
              "      <th>823519</th>\n",
              "      <td>1</td>\n",
              "      <td>3</td>\n",
              "      <td>1635</td>\n",
              "    </tr>\n",
              "  </tbody>\n",
              "</table>\n",
              "</div>"
            ],
            "text/plain": [
              "         movieId  rating  days\n",
              "custId                        \n",
              "1488844        1       3  2126\n",
              "822109         1       5  2010\n",
              "885013         1       4  2169\n",
              "30878          1       4  2237\n",
              "823519         1       3  1635"
            ]
          },
          "metadata": {
            "tags": []
          },
          "execution_count": 5
        }
      ]
    },
    {
      "cell_type": "markdown",
      "metadata": {
        "id": "I0mqXt3xmCdr",
        "colab_type": "text"
      },
      "source": [
        "### Data Exploration"
      ]
    },
    {
      "cell_type": "code",
      "metadata": {
        "colab_type": "code",
        "id": "AEhJu2xOGN-0",
        "colab": {}
      },
      "source": [
        "indices = df.index.value_counts()"
      ],
      "execution_count": 0,
      "outputs": []
    },
    {
      "cell_type": "code",
      "metadata": {
        "colab_type": "code",
        "id": "dpnLXK65Gedr",
        "outputId": "e8aa2280-ddc0-41de-9b8d-05d06d522121",
        "colab": {
          "base_uri": "https://localhost:8080/",
          "height": 34
        }
      },
      "source": [
        "len(indices.index)"
      ],
      "execution_count": 0,
      "outputs": [
        {
          "output_type": "execute_result",
          "data": {
            "text/plain": [
              "480189"
            ]
          },
          "metadata": {
            "tags": []
          },
          "execution_count": 12
        }
      ]
    },
    {
      "cell_type": "code",
      "metadata": {
        "colab_type": "code",
        "id": "b6P4dknLGlBM",
        "outputId": "531fc15b-4f6b-4373-a65e-41d81c1cc1c8",
        "colab": {
          "base_uri": "https://localhost:8080/",
          "height": 359
        }
      },
      "source": [
        "plt.scatter(indices.index, indices)"
      ],
      "execution_count": 0,
      "outputs": [
        {
          "output_type": "execute_result",
          "data": {
            "text/plain": [
              "<matplotlib.collections.PathCollection at 0x7faa4f2d3ac8>"
            ]
          },
          "metadata": {
            "tags": []
          },
          "execution_count": 16
        },
        {
          "output_type": "display_data",
          "data": {
            "image/png": "[encoded data removed]",
            "text/plain": [
              "<Figure size 1296x360 with 1 Axes>"
            ]
          },
          "metadata": {
            "tags": []
          }
        }
      ]
    },
    {
      "cell_type": "code",
      "metadata": {
        "colab_type": "code",
        "id": "k2GcS49SG7U6",
        "outputId": "a12a399b-136d-4de9-e166-55b569f26619",
        "colab": {
          "base_uri": "https://localhost:8080/",
          "height": 359
        }
      },
      "source": [
        "nb_reviews = indices.value_counts().sort_index()\n",
        "plt.scatter(nb_reviews[nb_reviews.index<1000].index, nb_reviews[nb_reviews.index<1000])"
      ],
      "execution_count": 0,
      "outputs": [
        {
          "output_type": "execute_result",
          "data": {
            "text/plain": [
              "<matplotlib.collections.PathCollection at 0x7faa4c8c02b0>"
            ]
          },
          "metadata": {
            "tags": []
          },
          "execution_count": 22
        },
        {
          "output_type": "display_data",
          "data": {
            "image/png": "[encoded data removed]",
            "text/plain": [
              "<Figure size 1296x360 with 1 Axes>"
            ]
          },
          "metadata": {
            "tags": []
          }
        }
      ]
    },
    {
      "cell_type": "markdown",
      "metadata": {
        "id": "Kdx8VkJLmbzA",
        "colab_type": "text"
      },
      "source": [
        "### First experiment"
      ]
    },
    {
      "cell_type": "code",
      "metadata": {
        "id": "8p8x7CsOa8Up",
        "colab_type": "code",
        "outputId": "f59747f9-6a4c-433d-ae47-3db51638f8cd",
        "colab": {
          "base_uri": "https://localhost:8080/",
          "height": 143
        }
      },
      "source": [
        "np.random.seed(42)\n",
        "\n",
        "aux_list = [privacy.Auxiliary(True, True, 0, 0), privacy.Auxiliary(True, True, 0, 0)]\n",
        "\n",
        "aux = privacy.Generate.generate(df, aux_list, custId=None)\n",
        "aux"
      ],
      "execution_count": 0,
      "outputs": [
        {
          "output_type": "execute_result",
          "data": {
            "text/html": [
              "<div>\n",
              "<style scoped>\n",
              "    .dataframe tbody tr th:only-of-type {\n",
              "        vertical-align: middle;\n",
              "    }\n",
              "\n",
              "    .dataframe tbody tr th {\n",
              "        vertical-align: top;\n",
              "    }\n",
              "\n",
              "    .dataframe thead th {\n",
              "        text-align: right;\n",
              "    }\n",
              "</style>\n",
              "<table border=\"1\" class=\"dataframe\">\n",
              "  <thead>\n",
              "    <tr style=\"text-align: right;\">\n",
              "      <th></th>\n",
              "      <th>movieId</th>\n",
              "      <th>rating</th>\n",
              "      <th>days</th>\n",
              "    </tr>\n",
              "    <tr>\n",
              "      <th>custId</th>\n",
              "      <th></th>\n",
              "      <th></th>\n",
              "      <th></th>\n",
              "    </tr>\n",
              "  </thead>\n",
              "  <tbody>\n",
              "    <tr>\n",
              "      <th>669667</th>\n",
              "      <td>3962</td>\n",
              "      <td>4</td>\n",
              "      <td>2220</td>\n",
              "    </tr>\n",
              "    <tr>\n",
              "      <th>669667</th>\n",
              "      <td>12974</td>\n",
              "      <td>4</td>\n",
              "      <td>2220</td>\n",
              "    </tr>\n",
              "  </tbody>\n",
              "</table>\n",
              "</div>"
            ],
            "text/plain": [
              "        movieId  rating  days\n",
              "custId                       \n",
              "669667     3962       4  2220\n",
              "669667    12974       4  2220"
            ]
          },
          "metadata": {
            "tags": []
          },
          "execution_count": 46
        }
      ]
    },
    {
      "cell_type": "code",
      "metadata": {
        "id": "7p1LQPohxSCt",
        "colab_type": "code",
        "outputId": "827d474c-82bf-4e53-e74d-2048dc2b7826",
        "colab": {
          "base_uri": "https://localhost:8080/",
          "height": 455
        }
      },
      "source": [
        "df.loc[aux.index[0]]"
      ],
      "execution_count": 0,
      "outputs": [
        {
          "output_type": "execute_result",
          "data": {
            "text/html": [
              "<div>\n",
              "<style scoped>\n",
              "    .dataframe tbody tr th:only-of-type {\n",
              "        vertical-align: middle;\n",
              "    }\n",
              "\n",
              "    .dataframe tbody tr th {\n",
              "        vertical-align: top;\n",
              "    }\n",
              "\n",
              "    .dataframe thead th {\n",
              "        text-align: right;\n",
              "    }\n",
              "</style>\n",
              "<table border=\"1\" class=\"dataframe\">\n",
              "  <thead>\n",
              "    <tr style=\"text-align: right;\">\n",
              "      <th></th>\n",
              "      <th>movieId</th>\n",
              "      <th>rating</th>\n",
              "      <th>days</th>\n",
              "    </tr>\n",
              "    <tr>\n",
              "      <th>custId</th>\n",
              "      <th></th>\n",
              "      <th></th>\n",
              "      <th></th>\n",
              "    </tr>\n",
              "  </thead>\n",
              "  <tbody>\n",
              "    <tr>\n",
              "      <th>669667</th>\n",
              "      <td>28</td>\n",
              "      <td>4</td>\n",
              "      <td>2220</td>\n",
              "    </tr>\n",
              "    <tr>\n",
              "      <th>669667</th>\n",
              "      <td>171</td>\n",
              "      <td>4</td>\n",
              "      <td>2220</td>\n",
              "    </tr>\n",
              "    <tr>\n",
              "      <th>669667</th>\n",
              "      <td>187</td>\n",
              "      <td>4</td>\n",
              "      <td>2220</td>\n",
              "    </tr>\n",
              "    <tr>\n",
              "      <th>669667</th>\n",
              "      <td>312</td>\n",
              "      <td>4</td>\n",
              "      <td>2220</td>\n",
              "    </tr>\n",
              "    <tr>\n",
              "      <th>669667</th>\n",
              "      <td>313</td>\n",
              "      <td>3</td>\n",
              "      <td>2220</td>\n",
              "    </tr>\n",
              "    <tr>\n",
              "      <th>...</th>\n",
              "      <td>...</td>\n",
              "      <td>...</td>\n",
              "      <td>...</td>\n",
              "    </tr>\n",
              "    <tr>\n",
              "      <th>669667</th>\n",
              "      <td>17506</td>\n",
              "      <td>3</td>\n",
              "      <td>2220</td>\n",
              "    </tr>\n",
              "    <tr>\n",
              "      <th>669667</th>\n",
              "      <td>17622</td>\n",
              "      <td>4</td>\n",
              "      <td>2220</td>\n",
              "    </tr>\n",
              "    <tr>\n",
              "      <th>669667</th>\n",
              "      <td>17627</td>\n",
              "      <td>3</td>\n",
              "      <td>2217</td>\n",
              "    </tr>\n",
              "    <tr>\n",
              "      <th>669667</th>\n",
              "      <td>17762</td>\n",
              "      <td>5</td>\n",
              "      <td>2220</td>\n",
              "    </tr>\n",
              "    <tr>\n",
              "      <th>669667</th>\n",
              "      <td>17764</td>\n",
              "      <td>3</td>\n",
              "      <td>2220</td>\n",
              "    </tr>\n",
              "  </tbody>\n",
              "</table>\n",
              "<p>318 rows × 3 columns</p>\n",
              "</div>"
            ],
            "text/plain": [
              "        movieId  rating  days\n",
              "custId                       \n",
              "669667       28       4  2220\n",
              "669667      171       4  2220\n",
              "669667      187       4  2220\n",
              "669667      312       4  2220\n",
              "669667      313       3  2220\n",
              "...         ...     ...   ...\n",
              "669667    17506       3  2220\n",
              "669667    17622       4  2220\n",
              "669667    17627       3  2217\n",
              "669667    17762       5  2220\n",
              "669667    17764       3  2220\n",
              "\n",
              "[318 rows x 3 columns]"
            ]
          },
          "metadata": {
            "tags": []
          },
          "execution_count": 48
        }
      ]
    },
    {
      "cell_type": "code",
      "metadata": {
        "id": "49EajD7Ea8U2",
        "colab_type": "code",
        "outputId": "17f8fdd1-2390-482e-dedb-557fe2931ee0",
        "colab": {
          "base_uri": "https://localhost:8080/",
          "height": 243
        }
      },
      "source": [
        "# scoring = privacy.Score_simple(privacy.equal_similarity)\n",
        "# scoring = privacy.Scoreboard(privacy.equal_similarity, df)\n",
        "# scoring = privacy.Scoreboard_RH(privacy.netflix_similarity(1.5,30), df)\n",
        "scoring = privacy.Scoreboard_RH(privacy.general_similarity(), df)\n",
        "\n",
        "\n",
        "# scoring.similarity(aux, df.loc[1488844])\n",
        "scores = scoring.compute_score(aux, df)\n",
        "scores"
      ],
      "execution_count": 0,
      "outputs": [
        {
          "output_type": "execute_result",
          "data": {
            "text/plain": [
              "custId_2\n",
              "2411208    0.362824\n",
              "1164541    0.362824\n",
              "482324     0.362824\n",
              "912466     0.362824\n",
              "669667     0.362824\n",
              "             ...   \n",
              "1711132    0.000000\n",
              "1711143    0.000000\n",
              "1711148    0.000000\n",
              "1711156    0.000000\n",
              "1322528    0.000000\n",
              "Name: value, Length: 480189, dtype: float64"
            ]
          },
          "metadata": {
            "tags": []
          },
          "execution_count": 49
        }
      ]
    },
    {
      "cell_type": "code",
      "metadata": {
        "id": "XrAzWrfta8U9",
        "colab_type": "code",
        "colab": {}
      },
      "source": [
        "# scoring.matching_set(scores, 1.5)\n",
        "scoring.output(scores, 0)"
      ],
      "execution_count": 0,
      "outputs": []
    },
    {
      "cell_type": "code",
      "metadata": {
        "id": "H-ziPU231GRH",
        "colab_type": "code",
        "colab": {}
      },
      "source": [
        "2496012\n",
        "[23 28]\n",
        "[30, 8]"
      ],
      "execution_count": 0,
      "outputs": []
    },
    {
      "cell_type": "code",
      "metadata": {
        "id": "53Uut2xS2IF5",
        "colab_type": "code",
        "outputId": "2131e6c0-7fa7-457d-9810-10dd1385b3cf",
        "colab": {
          "base_uri": "https://localhost:8080/",
          "height": 34
        }
      },
      "source": [
        "movieId_list"
      ],
      "execution_count": 0,
      "outputs": [
        {
          "output_type": "execute_result",
          "data": {
            "text/plain": [
              "[28, 23]"
            ]
          },
          "metadata": {
            "tags": []
          },
          "execution_count": 68
        }
      ]
    },
    {
      "cell_type": "code",
      "metadata": {
        "id": "_8HWezyR1xdX",
        "colab_type": "code",
        "outputId": "b331a054-9134-4c96-c933-efb67595a685",
        "colab": {
          "base_uri": "https://localhost:8080/",
          "height": 34
        }
      },
      "source": [
        "len(movieId_list)"
      ],
      "execution_count": 0,
      "outputs": [
        {
          "output_type": "execute_result",
          "data": {
            "text/plain": [
              "2"
            ]
          },
          "metadata": {
            "tags": []
          },
          "execution_count": 67
        }
      ]
    },
    {
      "cell_type": "code",
      "metadata": {
        "id": "QZADakWP1Gno",
        "colab_type": "code",
        "outputId": "c9a3d2b2-6be1-4eb5-932a-e0721a5bd14b",
        "colab": {
          "base_uri": "https://localhost:8080/",
          "height": 143
        }
      },
      "source": [
        "record = df.loc[[2496012]]\n",
        "record"
      ],
      "execution_count": 0,
      "outputs": [
        {
          "output_type": "execute_result",
          "data": {
            "text/html": [
              "<div>\n",
              "<style scoped>\n",
              "    .dataframe tbody tr th:only-of-type {\n",
              "        vertical-align: middle;\n",
              "    }\n",
              "\n",
              "    .dataframe tbody tr th {\n",
              "        vertical-align: top;\n",
              "    }\n",
              "\n",
              "    .dataframe thead th {\n",
              "        text-align: right;\n",
              "    }\n",
              "</style>\n",
              "<table border=\"1\" class=\"dataframe\">\n",
              "  <thead>\n",
              "    <tr style=\"text-align: right;\">\n",
              "      <th></th>\n",
              "      <th>movieId</th>\n",
              "      <th>rating</th>\n",
              "      <th>days</th>\n",
              "    </tr>\n",
              "    <tr>\n",
              "      <th>custId</th>\n",
              "      <th></th>\n",
              "      <th></th>\n",
              "      <th></th>\n",
              "    </tr>\n",
              "  </thead>\n",
              "  <tbody>\n",
              "    <tr>\n",
              "      <th>2496012</th>\n",
              "      <td>23</td>\n",
              "      <td>3</td>\n",
              "      <td>992</td>\n",
              "    </tr>\n",
              "    <tr>\n",
              "      <th>2496012</th>\n",
              "      <td>28</td>\n",
              "      <td>3</td>\n",
              "      <td>1122</td>\n",
              "    </tr>\n",
              "  </tbody>\n",
              "</table>\n",
              "</div>"
            ],
            "text/plain": [
              "         movieId  rating  days\n",
              "custId                        \n",
              "2496012       23       3   992\n",
              "2496012       28       3  1122"
            ]
          },
          "metadata": {
            "tags": []
          },
          "execution_count": 62
        }
      ]
    },
    {
      "cell_type": "code",
      "metadata": {
        "id": "wwlz97vH1G5f",
        "colab_type": "code",
        "outputId": "8086e26e-e911-4177-b08b-66ec279ab707",
        "colab": {
          "base_uri": "https://localhost:8080/",
          "height": 34
        }
      },
      "source": [
        "movieId_list = []\n",
        "movieIds = np.unique(record['movieId'].values)\n",
        "nb_remaining_movie_id = 2\n",
        "remaining_movie_ids = list(np.random.choice(movieIds[~np.isin(movieIds, movieId_list)],\n",
        "                                               size=nb_remaining_movie_id,\n",
        "                                               replace=False))\n",
        "movieId_list += remaining_movie_ids\n",
        "movieId_list"
      ],
      "execution_count": 0,
      "outputs": [
        {
          "output_type": "execute_result",
          "data": {
            "text/plain": [
              "[28, 23]"
            ]
          },
          "metadata": {
            "tags": []
          },
          "execution_count": 64
        }
      ]
    },
    {
      "cell_type": "code",
      "metadata": {
        "id": "tqjfyRd40fQg",
        "colab_type": "code",
        "outputId": "71312ae4-0b2e-47b9-b2f6-6bbd34961e1c",
        "colab": {
          "base_uri": "https://localhost:8080/",
          "height": 729
        }
      },
      "source": [
        "import inspect\n",
        "lines = inspect.getsource(privacy.Generate)\n",
        "print(lines)"
      ],
      "execution_count": 0,
      "outputs": [
        {
          "output_type": "stream",
          "text": [
            "class Generate:\n",
            "    @staticmethod\n",
            "    def generate(df, aux_list, custId=None, movieId_list=[]):\n",
            "        \"\"\"\n",
            "        generate a complete auxiliary information record\n",
            "        :params df: the dataframe of ratings\n",
            "        :params aux_list: the informations about the records\n",
            "        :params custId: the id of the customer\n",
            "        :params movieId_list: the list of Id of movies to apply the aux info to\n",
            "        \"\"\"\n",
            "        if not custId:\n",
            "            custId_list = np.unique(df.index)\n",
            "            \n",
            "            finished = False\n",
            "            while not finished:\n",
            "                custId = np.random.choice(custId_list)\n",
            "                if len(df.loc[[custId]]) >= len(aux_list):\n",
            "                    finished = True\n",
            "                \n",
            "        record = df.loc[[custId]]\n",
            "        movieIds = np.unique(record['movieId'].values)\n",
            "        if len(record) < len(aux_list):\n",
            "            raise ValueError('The customer has not reviewed enough movies')\n",
            "            \n",
            "        nb_remaining_movie_id = 0\n",
            "        if len(movieId_list) < len(aux_list):\n",
            "            nb_remaining_movie_id = len(aux_list)-len(movieId_list)\n",
            "            \n",
            "        remaining_movie_ids = list(np.random.choice(movieIds[~np.isin(movieIds, movieId_list)],\n",
            "                                               size=nb_remaining_movie_id,\n",
            "                                               replace=False))\n",
            "        movieId_list += remaining_movie_ids\n",
            "        \n",
            "        if not all([movieId in movieIds for movieId in movieId_list]):\n",
            "            raise('error on movie ids')\n",
            "            \n",
            "        #aux_record = pd.concat([aux.generate_aux_record(record.loc[record['movieId']==movieId].iloc[0]) for aux, movieId in zip(aux_list, movieId_list)])\n",
            "        aux_record = pd.concat([aux.generate_aux_record(record.loc[record['movieId']==movieId]) for aux, movieId in zip(aux_list, movieId_list)])\n",
            "        \n",
            "        return aux_record\n",
            "\n"
          ],
          "name": "stdout"
        }
      ]
    },
    {
      "cell_type": "code",
      "metadata": {
        "id": "8qT7nK02A7jz",
        "colab_type": "code",
        "colab": {}
      },
      "source": [
        "!head -n 10 exp_0.txt"
      ],
      "execution_count": 0,
      "outputs": []
    },
    {
      "cell_type": "markdown",
      "metadata": {
        "id": "zmjAIC8xmezX",
        "colab_type": "text"
      },
      "source": [
        "### Result reproduction"
      ]
    },
    {
      "cell_type": "code",
      "metadata": {
        "id": "QC-3Yrfqa8VC",
        "colab_type": "code",
        "outputId": "47219cb4-63e2-401e-fcdd-a22008af5231",
        "colab": {
          "base_uri": "https://localhost:8080/",
          "height": 1000
        }
      },
      "source": [
        "np.random.seed(42)\n",
        "\n",
        "nb_iterations = 100\n",
        "\n",
        "results = {}\n",
        "aux_list_list = [\n",
        "                 [privacy.Auxiliary(True, True, 0, 3), privacy.Auxiliary(True, True, 0, 3)],\n",
        "\n",
        "                 [privacy.Auxiliary(True, True, 0, 3), privacy.Auxiliary(True, True, 0, 3),\n",
        "                  privacy.Auxiliary(True, True, 0, 3), privacy.Auxiliary(False, False, 0, 3)],\n",
        "                 \n",
        "                 [privacy.Auxiliary(True, True, 0, 3), privacy.Auxiliary(True, True, 0, 3),\n",
        "                  privacy.Auxiliary(True, True, 0, 3), privacy.Auxiliary(True, True, 0, 3),\n",
        "                  privacy.Auxiliary(True, True, 0, 3), privacy.Auxiliary(True, True, 0, 3),\n",
        "                  privacy.Auxiliary(False, False, 0, 3), privacy.Auxiliary(False, False, 0, 3)],\n",
        "                 \n",
        "                 [privacy.Auxiliary(True, True, 0, 14), privacy.Auxiliary(True, True, 0, 14)],\n",
        "\n",
        "                 [privacy.Auxiliary(True, True, 0, 14), privacy.Auxiliary(True, True, 0, 14),\n",
        "                  privacy.Auxiliary(True, True, 0, 14), privacy.Auxiliary(False, False, 0, 14)],\n",
        "                 \n",
        "                 [privacy.Auxiliary(True, True, 0, 14), privacy.Auxiliary(True, True, 0, 14),\n",
        "                  privacy.Auxiliary(True, True, 0, 14), privacy.Auxiliary(True, True, 0, 14),\n",
        "                  privacy.Auxiliary(True, True, 0, 14), privacy.Auxiliary(True, True, 0, 14),\n",
        "                  privacy.Auxiliary(False, False, 0, 14), privacy.Auxiliary(False, False, 0, 14)],\n",
        "                 ]\n",
        "\n",
        "for i, aux_list in enumerate(aux_list_list):\n",
        "  if i==2 or i==5:\n",
        "    results['exp_{}_index'.format(i)] = []\n",
        "    results['exp_{}_aux'.format(i)] = []\n",
        "    results['exp_{}_top_index'.format(i)] = []\n",
        "    results['exp_{}_score'.format(i)] = []\n",
        "    results['exp_{}_ecc'.format(i)] = []\n",
        "    with open(\"exp_{}.txt\".format(i), 'a') as f:\n",
        "      f.write('custId,score,eccentricity\\n')\n",
        "      for k in range(nb_iterations):\n",
        "        print('iteration {}'.format(k))\n",
        "        aux = privacy.Generate.generate(df, aux_list, custId=None)\n",
        "        scoring = privacy.Scoreboard_RH(privacy.general_similarity(), df)\n",
        "        scores = scoring.compute_score(aux, df)\n",
        "        top_score, ecc = scoring.matching_set(scores, 0)\n",
        "        results['exp_{}_index'.format(i)].append(aux.index[0])\n",
        "        results['exp_{}_aux'.format(i)].append(str(aux))\n",
        "        results['exp_{}_top_index'.format(i)].append(top_score.index[0])\n",
        "        results['exp_{}_score'.format(i)].append(top_score.values[0])\n",
        "        results['exp_{}_ecc'.format(i)].append(ecc)\n",
        "        f.write(str(aux.index[0]) + ',' + str(aux) + ',' + str(top_score.index[0]) + ',' + str(top_score.values[0]) + ',' + str(ecc) + '\\n')"
      ],
      "execution_count": 0,
      "outputs": [
        {
          "output_type": "stream",
          "text": [
            "iteration 0\n",
            "start\n",
            "0\n",
            "8\n",
            "iteration 1\n",
            "start\n",
            "0\n",
            "8\n",
            "iteration 2\n",
            "start\n",
            "0\n",
            "8\n",
            "iteration 3\n",
            "start\n",
            "0\n",
            "8\n",
            "iteration 4\n",
            "start\n",
            "0\n",
            "8\n",
            "iteration 5\n",
            "start\n",
            "0\n",
            "8\n",
            "iteration 6\n",
            "start\n",
            "0\n",
            "8\n",
            "iteration 7\n",
            "start\n",
            "0\n",
            "8\n",
            "iteration 8\n",
            "start\n",
            "0\n",
            "8\n",
            "iteration 9\n",
            "start\n",
            "0\n",
            "8\n",
            "iteration 10\n",
            "start\n",
            "0\n",
            "8\n",
            "iteration 11\n",
            "start\n",
            "0\n",
            "8\n",
            "iteration 12\n",
            "start\n",
            "0\n",
            "8\n",
            "iteration 13\n",
            "start\n",
            "0\n",
            "8\n",
            "iteration 14\n",
            "start\n",
            "0\n",
            "8\n",
            "iteration 15\n",
            "start\n",
            "0\n",
            "8\n",
            "iteration 16\n",
            "start\n",
            "0\n",
            "8\n",
            "iteration 17\n",
            "start\n",
            "0\n",
            "8\n",
            "iteration 18\n",
            "start\n",
            "0\n",
            "8\n",
            "iteration 19\n",
            "start\n",
            "0\n",
            "8\n",
            "iteration 20\n",
            "start\n",
            "0\n",
            "8\n",
            "iteration 21\n",
            "start\n",
            "0\n",
            "8\n",
            "iteration 22\n",
            "start\n",
            "0\n",
            "8\n",
            "iteration 23\n",
            "start\n",
            "0\n",
            "8\n",
            "iteration 24\n",
            "start\n",
            "0\n",
            "8\n",
            "iteration 25\n",
            "start\n",
            "0\n",
            "8\n",
            "iteration 26\n",
            "start\n",
            "0\n",
            "8\n",
            "iteration 27\n",
            "start\n",
            "0\n",
            "8\n",
            "iteration 28\n",
            "start\n",
            "0\n",
            "8\n",
            "iteration 29\n",
            "start\n",
            "0\n",
            "8\n",
            "iteration 30\n",
            "start\n",
            "0\n",
            "8\n",
            "iteration 31\n",
            "start\n",
            "0\n",
            "8\n",
            "iteration 32\n",
            "start\n",
            "0\n",
            "8\n",
            "iteration 33\n",
            "start\n",
            "0\n",
            "8\n",
            "iteration 34\n",
            "start\n",
            "0\n",
            "8\n",
            "iteration 35\n",
            "start\n",
            "0\n",
            "8\n",
            "iteration 36\n",
            "start\n",
            "0\n",
            "8\n",
            "iteration 37\n",
            "start\n",
            "0\n",
            "8\n",
            "iteration 38\n",
            "start\n",
            "0\n",
            "8\n",
            "iteration 39\n",
            "start\n",
            "0\n",
            "8\n",
            "iteration 40\n",
            "start\n",
            "0\n",
            "8\n",
            "iteration 41\n",
            "start\n",
            "0\n",
            "8\n",
            "iteration 42\n",
            "start\n",
            "0\n",
            "8\n",
            "iteration 43\n",
            "start\n",
            "0\n",
            "8\n",
            "iteration 44\n",
            "start\n",
            "0\n",
            "8\n",
            "iteration 45\n",
            "start\n",
            "0\n",
            "8\n",
            "iteration 46\n",
            "start\n",
            "0\n",
            "8\n",
            "iteration 47\n",
            "start\n",
            "0\n",
            "8\n",
            "iteration 48\n",
            "start\n",
            "0\n",
            "8\n",
            "iteration 49\n",
            "start\n",
            "0\n",
            "8\n",
            "iteration 50\n",
            "start\n",
            "0\n",
            "8\n",
            "iteration 51\n",
            "start\n",
            "0\n",
            "8\n",
            "iteration 52\n",
            "start\n",
            "0\n",
            "8\n",
            "iteration 53\n",
            "start\n",
            "0\n",
            "8\n",
            "iteration 54\n",
            "start\n",
            "0\n",
            "8\n",
            "iteration 55\n",
            "start\n",
            "0\n",
            "8\n",
            "iteration 56\n",
            "start\n",
            "0\n",
            "8\n",
            "iteration 57\n",
            "start\n",
            "0\n",
            "8\n",
            "iteration 58\n",
            "start\n",
            "0\n",
            "8\n",
            "iteration 59\n",
            "start\n",
            "0\n",
            "8\n",
            "iteration 60\n",
            "start\n",
            "0\n",
            "8\n",
            "iteration 61\n",
            "start\n",
            "0\n",
            "8\n",
            "iteration 62\n",
            "start\n",
            "0\n",
            "8\n",
            "iteration 63\n",
            "start\n",
            "0\n",
            "8\n",
            "iteration 64\n",
            "start\n",
            "0\n",
            "8\n",
            "iteration 65\n",
            "start\n",
            "0\n",
            "8\n",
            "iteration 66\n",
            "start\n",
            "0\n",
            "8\n",
            "iteration 67\n",
            "start\n",
            "0\n",
            "8\n",
            "iteration 68\n",
            "start\n",
            "0\n",
            "8\n",
            "iteration 69\n",
            "start\n",
            "0\n",
            "8\n",
            "iteration 70\n",
            "start\n",
            "0\n",
            "8\n",
            "iteration 71\n",
            "start\n",
            "0\n",
            "8\n",
            "iteration 72\n",
            "start\n",
            "0\n",
            "8\n",
            "iteration 73\n",
            "start\n",
            "0\n",
            "8\n",
            "iteration 74\n",
            "start\n",
            "0\n",
            "8\n",
            "iteration 75\n",
            "start\n",
            "0\n",
            "8\n",
            "iteration 76\n",
            "start\n",
            "0\n",
            "8\n",
            "iteration 77\n",
            "start\n",
            "0\n",
            "8\n",
            "iteration 78\n",
            "start\n",
            "0\n",
            "8\n",
            "iteration 79\n",
            "start\n",
            "0\n",
            "8\n",
            "iteration 80\n",
            "start\n",
            "0\n",
            "8\n",
            "iteration 81\n",
            "start\n",
            "0\n",
            "8\n",
            "iteration 82\n",
            "start\n",
            "0\n",
            "8\n",
            "iteration 83\n",
            "start\n",
            "0\n",
            "8\n",
            "iteration 84\n",
            "start\n",
            "0\n",
            "8\n",
            "iteration 85\n",
            "start\n",
            "0\n",
            "8\n",
            "iteration 86\n",
            "start\n",
            "0\n",
            "8\n",
            "iteration 87\n",
            "start\n",
            "0\n",
            "8\n",
            "iteration 88\n",
            "start\n",
            "0\n",
            "8\n",
            "iteration 89\n",
            "start\n",
            "0\n",
            "8\n",
            "iteration 90\n",
            "start\n",
            "0\n",
            "8\n",
            "iteration 91\n",
            "start\n",
            "0\n",
            "8\n",
            "iteration 92\n",
            "start\n",
            "0\n",
            "8\n",
            "iteration 93\n",
            "start\n",
            "0\n",
            "8\n",
            "iteration 94\n",
            "start\n",
            "0\n",
            "8\n",
            "iteration 95\n",
            "start\n",
            "0\n",
            "8\n",
            "iteration 96\n",
            "start\n",
            "0\n",
            "8\n",
            "iteration 97\n",
            "start\n",
            "0\n",
            "8\n",
            "iteration 98\n",
            "start\n",
            "0\n",
            "8\n",
            "iteration 99\n",
            "start\n",
            "0\n",
            "8\n",
            "iteration 0\n",
            "start\n",
            "0\n",
            "8\n",
            "iteration 1\n",
            "start\n",
            "0\n",
            "8\n",
            "iteration 2\n",
            "start\n",
            "0\n",
            "8\n",
            "iteration 3\n",
            "start\n",
            "0\n",
            "8\n",
            "iteration 4\n",
            "start\n",
            "0\n",
            "8\n",
            "iteration 5\n",
            "start\n",
            "0\n",
            "8\n",
            "iteration 6\n",
            "start\n",
            "0\n",
            "8\n",
            "iteration 7\n",
            "start\n",
            "0\n",
            "8\n",
            "iteration 8\n",
            "start\n",
            "0\n",
            "8\n",
            "iteration 9\n",
            "start\n",
            "0\n",
            "8\n",
            "iteration 10\n",
            "start\n",
            "0\n",
            "8\n",
            "iteration 11\n",
            "start\n",
            "0\n",
            "8\n",
            "iteration 12\n",
            "start\n",
            "0\n",
            "8\n",
            "iteration 13\n",
            "start\n",
            "0\n",
            "8\n",
            "iteration 14\n",
            "start\n",
            "0\n",
            "8\n",
            "iteration 15\n",
            "start\n",
            "0\n",
            "8\n",
            "iteration 16\n",
            "start\n",
            "0\n",
            "8\n",
            "iteration 17\n",
            "start\n",
            "0\n",
            "8\n",
            "iteration 18\n",
            "start\n",
            "0\n",
            "8\n",
            "iteration 19\n",
            "start\n",
            "0\n",
            "8\n",
            "iteration 20\n",
            "start\n",
            "0\n",
            "8\n",
            "iteration 21\n",
            "start\n",
            "0\n",
            "8\n",
            "iteration 22\n",
            "start\n",
            "0\n",
            "8\n",
            "iteration 23\n",
            "start\n",
            "0\n",
            "8\n",
            "iteration 24\n",
            "start\n",
            "0\n",
            "8\n",
            "iteration 25\n",
            "start\n",
            "0\n",
            "8\n",
            "iteration 26\n",
            "start\n",
            "0\n",
            "8\n",
            "iteration 27\n",
            "start\n",
            "0\n",
            "8\n",
            "iteration 28\n",
            "start\n",
            "0\n",
            "8\n",
            "iteration 29\n",
            "start\n",
            "0\n",
            "8\n",
            "iteration 30\n",
            "start\n",
            "0\n",
            "8\n",
            "iteration 31\n",
            "start\n",
            "0\n",
            "8\n",
            "iteration 32\n",
            "start\n",
            "0\n",
            "8\n",
            "iteration 33\n",
            "start\n",
            "0\n",
            "8\n",
            "iteration 34\n",
            "start\n",
            "0\n",
            "8\n",
            "iteration 35\n",
            "start\n",
            "0\n",
            "8\n",
            "iteration 36\n",
            "start\n",
            "0\n",
            "8\n",
            "iteration 37\n",
            "start\n",
            "0\n",
            "8\n",
            "iteration 38\n",
            "start\n",
            "0\n",
            "8\n",
            "iteration 39\n",
            "start\n",
            "0\n",
            "8\n",
            "iteration 40\n",
            "start\n",
            "0\n",
            "8\n",
            "iteration 41\n",
            "start\n",
            "0\n",
            "8\n",
            "iteration 42\n",
            "start\n",
            "0\n",
            "8\n",
            "iteration 43\n",
            "start\n",
            "0\n",
            "8\n",
            "iteration 44\n",
            "start\n",
            "0\n",
            "8\n"
          ],
          "name": "stdout"
        }
      ]
    },
    {
      "cell_type": "code",
      "metadata": {
        "id": "gFxaMK8Ba8VI",
        "colab_type": "code",
        "colab": {}
      },
      "source": [
        ""
      ],
      "execution_count": 0,
      "outputs": []
    },
    {
      "cell_type": "code",
      "metadata": {
        "id": "b2WAKo1Ga8VO",
        "colab_type": "code",
        "colab": {}
      },
      "source": [
        ""
      ],
      "execution_count": 0,
      "outputs": []
    },
    {
      "cell_type": "code",
      "metadata": {
        "id": "XdvD0bX1a8VV",
        "colab_type": "code",
        "colab": {}
      },
      "source": [
        "# Test on similarities"
      ],
      "execution_count": 0,
      "outputs": []
    },
    {
      "cell_type": "code",
      "metadata": {
        "colab_type": "code",
        "id": "YN_KVDE8HUGM",
        "colab": {}
      },
      "source": [
        "cust1 = df.loc[[1488844]].set_index('movieId', drop=True)\n",
        "cust2 = df.loc[[822109]].set_index('movieId', drop=True)"
      ],
      "execution_count": 0,
      "outputs": []
    },
    {
      "cell_type": "code",
      "metadata": {
        "colab_type": "code",
        "id": "WHc3x47VH4Db",
        "outputId": "d9f1729c-c1b9-42ca-fb96-f0c8265271c3",
        "colab": {
          "base_uri": "https://localhost:8080/",
          "height": 206
        }
      },
      "source": [
        "merged = pd.merge(cust1, cust2, how='outer', left_index=True, right_index=True, suffixes=('_1', '_2'))\n",
        "merged"
      ],
      "execution_count": 0,
      "outputs": [
        {
          "output_type": "execute_result",
          "data": {
            "text/html": [
              "<div>\n",
              "<style scoped>\n",
              "    .dataframe tbody tr th:only-of-type {\n",
              "        vertical-align: middle;\n",
              "    }\n",
              "\n",
              "    .dataframe tbody tr th {\n",
              "        vertical-align: top;\n",
              "    }\n",
              "\n",
              "    .dataframe thead th {\n",
              "        text-align: right;\n",
              "    }\n",
              "</style>\n",
              "<table border=\"1\" class=\"dataframe\">\n",
              "  <thead>\n",
              "    <tr style=\"text-align: right;\">\n",
              "      <th></th>\n",
              "      <th>rating_1</th>\n",
              "      <th>days_1</th>\n",
              "      <th>rating_2</th>\n",
              "      <th>days_2</th>\n",
              "    </tr>\n",
              "    <tr>\n",
              "      <th>movieId</th>\n",
              "      <th></th>\n",
              "      <th></th>\n",
              "      <th></th>\n",
              "      <th></th>\n",
              "    </tr>\n",
              "  </thead>\n",
              "  <tbody>\n",
              "    <tr>\n",
              "      <td>1</td>\n",
              "      <td>3</td>\n",
              "      <td>2126</td>\n",
              "      <td>5.0</td>\n",
              "      <td>2010.0</td>\n",
              "    </tr>\n",
              "    <tr>\n",
              "      <td>8</td>\n",
              "      <td>4</td>\n",
              "      <td>2009</td>\n",
              "      <td>NaN</td>\n",
              "      <td>NaN</td>\n",
              "    </tr>\n",
              "    <tr>\n",
              "      <td>17</td>\n",
              "      <td>2</td>\n",
              "      <td>2057</td>\n",
              "      <td>NaN</td>\n",
              "      <td>NaN</td>\n",
              "    </tr>\n",
              "    <tr>\n",
              "      <td>30</td>\n",
              "      <td>3</td>\n",
              "      <td>1980</td>\n",
              "      <td>NaN</td>\n",
              "      <td>NaN</td>\n",
              "    </tr>\n",
              "  </tbody>\n",
              "</table>\n",
              "</div>"
            ],
            "text/plain": [
              "         rating_1  days_1  rating_2  days_2\n",
              "movieId                                    \n",
              "1               3    2126       5.0  2010.0\n",
              "8               4    2009       NaN     NaN\n",
              "17              2    2057       NaN     NaN\n",
              "30              3    1980       NaN     NaN"
            ]
          },
          "metadata": {
            "tags": []
          },
          "execution_count": 426
        }
      ]
    },
    {
      "cell_type": "code",
      "metadata": {
        "id": "CFb-_Lz1a8Vl",
        "colab_type": "code",
        "outputId": "d5b82b93-4b5a-4daa-f216-fb9598f17ddc",
        "colab": {}
      },
      "source": [
        "merged2 = merged.copy()\n",
        "merged2.loc[1, 'rating_2']=4\n",
        "merged2"
      ],
      "execution_count": 0,
      "outputs": [
        {
          "output_type": "execute_result",
          "data": {
            "text/html": [
              "<div>\n",
              "<style scoped>\n",
              "    .dataframe tbody tr th:only-of-type {\n",
              "        vertical-align: middle;\n",
              "    }\n",
              "\n",
              "    .dataframe tbody tr th {\n",
              "        vertical-align: top;\n",
              "    }\n",
              "\n",
              "    .dataframe thead th {\n",
              "        text-align: right;\n",
              "    }\n",
              "</style>\n",
              "<table border=\"1\" class=\"dataframe\">\n",
              "  <thead>\n",
              "    <tr style=\"text-align: right;\">\n",
              "      <th></th>\n",
              "      <th>rating_1</th>\n",
              "      <th>days_1</th>\n",
              "      <th>rating_2</th>\n",
              "      <th>days_2</th>\n",
              "    </tr>\n",
              "    <tr>\n",
              "      <th>movieId</th>\n",
              "      <th></th>\n",
              "      <th></th>\n",
              "      <th></th>\n",
              "      <th></th>\n",
              "    </tr>\n",
              "  </thead>\n",
              "  <tbody>\n",
              "    <tr>\n",
              "      <td>1</td>\n",
              "      <td>3</td>\n",
              "      <td>2126</td>\n",
              "      <td>4.0</td>\n",
              "      <td>2010.0</td>\n",
              "    </tr>\n",
              "    <tr>\n",
              "      <td>8</td>\n",
              "      <td>4</td>\n",
              "      <td>2009</td>\n",
              "      <td>NaN</td>\n",
              "      <td>NaN</td>\n",
              "    </tr>\n",
              "    <tr>\n",
              "      <td>17</td>\n",
              "      <td>2</td>\n",
              "      <td>2057</td>\n",
              "      <td>NaN</td>\n",
              "      <td>NaN</td>\n",
              "    </tr>\n",
              "    <tr>\n",
              "      <td>30</td>\n",
              "      <td>3</td>\n",
              "      <td>1980</td>\n",
              "      <td>NaN</td>\n",
              "      <td>NaN</td>\n",
              "    </tr>\n",
              "  </tbody>\n",
              "</table>\n",
              "</div>"
            ],
            "text/plain": [
              "         rating_1  days_1  rating_2  days_2\n",
              "movieId                                    \n",
              "1               3    2126       4.0  2010.0\n",
              "8               4    2009       NaN     NaN\n",
              "17              2    2057       NaN     NaN\n",
              "30              3    1980       NaN     NaN"
            ]
          },
          "metadata": {
            "tags": []
          },
          "execution_count": 433
        }
      ]
    },
    {
      "cell_type": "code",
      "metadata": {
        "colab_type": "code",
        "id": "98ZC3w-qNUi5",
        "outputId": "da1ab582-0f3d-4bd4-d34b-1f446f2f72db",
        "colab": {
          "base_uri": "https://localhost:8080/",
          "height": 112
        }
      },
      "source": [
        "privacy.netflix_similarity(r0=1.5, d0=30)(merged)\n",
        "# privacy.general_similarity(2,14)(merged)"
      ],
      "execution_count": 0,
      "outputs": [
        {
          "output_type": "execute_result",
          "data": {
            "text/plain": [
              "movieId\n",
              "1     0.284525\n",
              "8     0.000000\n",
              "17    0.000000\n",
              "30    0.000000\n",
              "dtype: float64"
            ]
          },
          "metadata": {
            "tags": []
          },
          "execution_count": 432
        }
      ]
    },
    {
      "cell_type": "code",
      "metadata": {
        "id": "dwWrG_Xca8Vu",
        "colab_type": "code",
        "outputId": "47e34515-c916-4f32-b1a6-e5980fbb6e26",
        "colab": {}
      },
      "source": [
        "privacy.netflix_similarity(r0=1.5, d0=30)(merged2)"
      ],
      "execution_count": 0,
      "outputs": [
        {
          "output_type": "execute_result",
          "data": {
            "text/plain": [
              "movieId\n",
              "1     0.534345\n",
              "8     0.000000\n",
              "17    0.000000\n",
              "30    0.000000\n",
              "dtype: float64"
            ]
          },
          "metadata": {
            "tags": []
          },
          "execution_count": 434
        }
      ]
    },
    {
      "cell_type": "code",
      "metadata": {
        "id": "33GRyKJ7a8Vz",
        "colab_type": "code",
        "outputId": "a127dac9-0de6-48e2-b85c-d827d08e22c6",
        "colab": {}
      },
      "source": [
        "privacy.netflix_similarity_old(r0=1.5, d0=30)(merged)"
      ],
      "execution_count": 0,
      "outputs": [
        {
          "output_type": "execute_result",
          "data": {
            "text/plain": [
              "movieId\n",
              "1     48.046441\n",
              "8      0.000000\n",
              "17     0.000000\n",
              "30     0.000000\n",
              "dtype: float64"
            ]
          },
          "metadata": {
            "tags": []
          },
          "execution_count": 431
        }
      ]
    }
  ]
}