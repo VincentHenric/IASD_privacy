{
 "cells": [
  {
   "cell_type": "code",
   "execution_count": 0,
   "metadata": {
    "colab": {},
    "colab_type": "code",
    "id": "pxlxcw_J6gFv"
   },
   "outputs": [],
   "source": [
    "#  https://www.kaggle.com/lpanda/netflix-data"
   ]
  },
  {
   "cell_type": "code",
   "execution_count": 1,
   "metadata": {
    "colab": {},
    "colab_type": "code",
    "id": "iMpfYFFU0baH"
   },
   "outputs": [],
   "source": [
    "from pyspark.sql import *\n",
    "%load_ext autoreload\n",
    "%autoreload 1\n",
    "import matplotlib.pyplot as plt\n",
    "%aimport experiment\n",
    "%aimport privacy_spark"
   ]
  },
  {
   "cell_type": "code",
   "execution_count": 2,
   "metadata": {
    "colab": {
     "base_uri": "https://localhost:8080/",
     "height": 72
    },
    "colab_type": "code",
    "id": "z7Wj4wz951_w",
    "outputId": "648551ab-d27a-408d-fc22-164b88fd5d32"
   },
   "outputs": [],
   "source": [
    "spark = SparkSession \\\n",
    "    .builder \\\n",
    "    .appName(\"Privacy Project\") \\\n",
    "    .getOrCreate()"
   ]
  },
  {
   "cell_type": "code",
   "execution_count": 3,
   "metadata": {
    "colab": {
     "base_uri": "https://localhost:8080/",
     "height": 69
    },
    "colab_type": "code",
    "id": "dqUtN6klOmBz",
    "outputId": "89b06423-e083-49c0-869a-381e5c7e4147"
   },
   "outputs": [],
   "source": [
    "exp = experiment.Experiment(spark)\n",
    "exp.load_dataset(\"./ratings.csv\")"
   ]
  },
  {
   "cell_type": "code",
   "execution_count": 4,
   "metadata": {},
   "outputs": [
    {
     "name": "stdout",
     "output_type": "stream",
     "text": [
      "74.0\n"
     ]
    }
   ],
   "source": [
    "no_info = privacy_spark.Auxiliary(False, False, 0, 0)\n",
    "ratings_exact_date_3  = privacy_spark.Auxiliary(True, True, 0, 3)\n",
    "ratings_exact_date_14 = privacy_spark.Auxiliary(True, True, 0, 14)\n",
    "\n",
    "aux_list = 3*[ratings_exact_date_14] + 1*[no_info]\n",
    "print(exp.evaluate(aux_list, N=100))"
   ]
  },
  {
   "cell_type": "code",
   "execution_count": 10,
   "metadata": {},
   "outputs": [
    {
     "name": "stdout",
     "output_type": "stream",
     "text": [
      "0.056610158896491736\n"
     ]
    },
    {
     "data": {
      "text/plain": [
       "(Row(custId_2=1935793, value=0.5666574849654078), 3.07244156175441)"
      ]
     },
     "execution_count": 10,
     "metadata": {},
     "output_type": "execute_result"
    }
   ],
   "source": [
    "scoring.matching_set(scores, 0.5)\n",
    "# scoring.output(scores, 0.5)"
   ]
  }
 ],
 "metadata": {
  "colab": {
   "collapsed_sections": [],
   "name": "privacy_project.ipynb",
   "provenance": []
  },
  "kernelspec": {
   "display_name": "Python 3",
   "language": "python",
   "name": "python3"
  },
  "language_info": {
   "codemirror_mode": {
    "name": "ipython",
    "version": 3
   },
   "file_extension": ".py",
   "mimetype": "text/x-python",
   "name": "python",
   "nbconvert_exporter": "python",
   "pygments_lexer": "ipython3",
   "version": "3.7.3"
  }
 },
 "nbformat": 4,
 "nbformat_minor": 1
}
