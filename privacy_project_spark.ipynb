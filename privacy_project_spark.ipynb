{
 "cells": [
  {
   "cell_type": "code",
   "execution_count": 1,
   "metadata": {
    "colab": {
     "base_uri": "https://localhost:8080/",
     "height": 72
    },
    "colab_type": "code",
    "executionInfo": {
     "elapsed": 4043,
     "status": "ok",
     "timestamp": 1584196310297,
     "user": {
      "displayName": "Vincent Henric",
      "photoUrl": "",
      "userId": "04147333351171011027"
     },
     "user_tz": -60
    },
    "id": "4IpC5m3G7xzj",
    "outputId": "d1b23f92-4987-4a8e-d241-f688c7447d28"
   },
   "outputs": [
    {
     "name": "stdout",
     "output_type": "stream",
     "text": [
      "Requirement already satisfied: pyspark in /usr/local/lib/python3.6/dist-packages (2.4.5)\n",
      "Requirement already satisfied: py4j==0.10.7 in /usr/local/lib/python3.6/dist-packages (from pyspark) (0.10.7)\n"
     ]
    }
   ],
   "source": [
    "!pip install pyspark"
   ]
  },
  {
   "cell_type": "code",
   "execution_count": null,
   "metadata": {},
   "outputs": [],
   "source": [
    "# for databricks\n",
    "\n",
    "# %sh\n",
    "# git clone https://github.com/VincentHenric/IASD_privacy.git\n",
    "    \n",
    "# import sys\n",
    "# sys.path.append('/databricks/driver/IASD_privacy')"
   ]
  },
  {
   "cell_type": "code",
   "execution_count": 2,
   "metadata": {
    "colab": {
     "base_uri": "https://localhost:8080/",
     "height": 436
    },
    "colab_type": "code",
    "executionInfo": {
     "elapsed": 4792,
     "status": "ok",
     "timestamp": 1584196315188,
     "user": {
      "displayName": "Vincent Henric",
      "photoUrl": "",
      "userId": "04147333351171011027"
     },
     "user_tz": -60
    },
    "id": "MHWPJu_X8fbC",
    "outputId": "d2c04413-99d1-4e9f-d3c3-6ca3746e09e9"
   },
   "outputs": [
    {
     "name": "stdout",
     "output_type": "stream",
     "text": [
      "/content\n",
      "Mounted at /content/drive\n",
      "/content/drive/My Drive/Colab Notebooks/privacy\n",
      "total 3735352\n",
      "-rw------- 1 root root        450 Feb 21 18:43  clean_data.py\n",
      "-rw------- 1 root root      16495 Mar  7 21:26  exp_0.txt\n",
      "-rw------- 1 root root      23321 Mar  8 01:26  exp_1.txt\n",
      "-rw------- 1 root root      17778 Mar  8 17:12  exp_3.txt\n",
      "-rw------- 1 root root      15170 Mar  8 19:23  exp_4.txt\n",
      "-rw------- 1 root root          0 Mar  9 00:31  exp_5.txt\n",
      "-rw------- 1 root root       3061 Mar 14 12:09 'experiment (1).py'\n",
      "-rw------- 1 root root       3061 Mar 14 12:09  experiment.py\n",
      "drwx------ 2 root root       4096 Feb 21 17:32  \u001b[0m\u001b[01;34mnetflix-prize-data\u001b[0m/\n",
      "-rw------- 1 root root      72265 Feb 23 11:23  privacy_project.ipynb\n",
      "-rw------- 1 root root      46270 Mar 14 14:31  privacy_project_spark.ipynb\n",
      "-rw------- 1 root root      14439 Mar 14 10:24  privacy.py\n",
      "-rw------- 1 root root       9522 Mar 14 14:02  privacy_spark.py\n",
      "drwx------ 2 root root       4096 Mar 14 14:05  \u001b[01;34m__pycache__\u001b[0m/\n",
      "-rw------- 1 root root 1017782897 Mar 14 10:13  ratings_1.csv\n",
      "-rw------- 1 root root 2610540692 Feb 21 18:45  ratings.csv\n",
      "-rw------- 1 root root  178846767 Mar  8 14:49  title.akas.tsv.gz\n",
      "-rw------- 1 root root   17595459 Mar  8 14:47  title.ratings.tsv\n",
      "['netflix-prize-data', 'clean_data.py', 'ratings.csv', '__pycache__', 'privacy_project.ipynb', '.ipynb_checkpoints', 'exp_0.txt', 'exp_1.txt', 'title.ratings.tsv', 'title.akas.tsv.gz', 'exp_3.txt', 'exp_4.txt', 'exp_5.txt', 'ratings_1.csv', 'privacy_spark.py', 'privacy.py', 'privacy_project_spark.ipynb', 'experiment.py', 'experiment (1).py']\n"
     ]
    }
   ],
   "source": [
    "# Mount drive\n",
    "import os\n",
    "from google.colab import drive\n",
    "%cd /content\n",
    "drive.mount('/content/drive', force_remount=True)\n",
    "%cd 'drive/My Drive/Colab Notebooks/privacy'\n",
    "%ls -l\n",
    "print(os.listdir())\n",
    "\n",
    "java8_location= '/usr/lib/jvm/java-8-openjdk-amd64' # Set your own\n",
    "os.environ['JAVA_HOME'] = java8_location"
   ]
  },
  {
   "cell_type": "code",
   "execution_count": 0,
   "metadata": {
    "colab": {},
    "colab_type": "code",
    "id": "iMpfYFFU0baH"
   },
   "outputs": [],
   "source": [
    "from pyspark.sql import *\n",
    "from pyspark.conf import SparkConf\n",
    "%load_ext autoreload\n",
    "%autoreload 1\n",
    "import matplotlib.pyplot as plt\n",
    "%aimport experiment\n",
    "%aimport privacy_spark"
   ]
  },
  {
   "cell_type": "code",
   "execution_count": 0,
   "metadata": {
    "colab": {},
    "colab_type": "code",
    "id": "z7Wj4wz951_w"
   },
   "outputs": [],
   "source": [
    "conf = SparkConf().setAll([('spark.executor.memory', '8g'),\n",
    "                           ('spark.driver.memory','8g')])\n",
    "\n",
    "spark = SparkSession \\\n",
    "    .builder \\\n",
    "    .appName(\"Privacy Project\") \\\n",
    "    .config(conf=conf) \\\n",
    "    .getOrCreate()\n",
    "\n",
    "print(spark.sparkContext.getConf().getAll())"
   ]
  },
  {
   "cell_type": "code",
   "execution_count": 0,
   "metadata": {
    "colab": {},
    "colab_type": "code",
    "id": "dqUtN6klOmBz"
   },
   "outputs": [],
   "source": [
    "exp = experiment.Experiment(spark)\n",
    "exp.load_dataset(\"./ratings.csv\")\n",
    "# exp.load_dataset(\"FileStore/tables/ratings_*.csv\") # for databricks\n",
    "# exp.load_dataset(\"./ratings.csv\", nrows=100000)"
   ]
  },
  {
   "cell_type": "code",
   "execution_count": 0,
   "metadata": {
    "colab": {},
    "colab_type": "code",
    "id": "JDqCx83xqLOD"
   },
   "outputs": [],
   "source": [
    "exp.df = exp.df.repartition('custId').cache()"
   ]
  },
  {
   "cell_type": "code",
   "execution_count": 9,
   "metadata": {
    "colab": {
     "base_uri": "https://localhost:8080/",
     "height": 34
    },
    "colab_type": "code",
    "executionInfo": {
     "elapsed": 283902,
     "status": "ok",
     "timestamp": 1584197414175,
     "user": {
      "displayName": "Vincent Henric",
      "photoUrl": "",
      "userId": "04147333351171011027"
     },
     "user_tz": -60
    },
    "id": "UA9y9gCDk7OI",
    "outputId": "98b682ba-7c7e-43c8-e4fd-a207bb3a66a6"
   },
   "outputs": [
    {
     "name": "stdout",
     "output_type": "stream",
     "text": [
      "60.0\n"
     ]
    }
   ],
   "source": [
    "no_info = privacy_spark.Auxiliary(False, False, 0, 0)\n",
    "ratings_exact_date_3  = privacy_spark.Auxiliary(True, True, 0, 3)\n",
    "ratings_exact_date_14 = privacy_spark.Auxiliary(True, True, 0, 14)\n",
    "\n",
    "aux_list = 3*[ratings_exact_date_14] + 1*[no_info]\n",
    "print(exp.evaluate(aux_list, N=100))"
   ]
  },
  {
   "cell_type": "code",
   "execution_count": 0,
   "metadata": {
    "colab": {},
    "colab_type": "code",
    "collapsed": true,
    "id": "yEUR1gexk7OX",
    "outputId": "d67d8244-27ce-4583-dc75-47384ff38885"
   },
   "outputs": [
    {
     "ename": "NameError",
     "evalue": "name 'scoring' is not defined",
     "output_type": "error",
     "traceback": [
      "\u001b[0;31m---------------------------------------------------------------------------\u001b[0m",
      "\u001b[0;31mNameError\u001b[0m                                 Traceback (most recent call last)",
      "\u001b[0;32m<ipython-input-97-ad00bcf82c64>\u001b[0m in \u001b[0;36m<module>\u001b[0;34m\u001b[0m\n\u001b[0;32m----> 1\u001b[0;31m \u001b[0mscoring\u001b[0m\u001b[0;34m.\u001b[0m\u001b[0mmatching_set\u001b[0m\u001b[0;34m(\u001b[0m\u001b[0mscores\u001b[0m\u001b[0;34m,\u001b[0m \u001b[0;36m0.5\u001b[0m\u001b[0;34m)\u001b[0m\u001b[0;34m\u001b[0m\u001b[0;34m\u001b[0m\u001b[0m\n\u001b[0m\u001b[1;32m      2\u001b[0m \u001b[0;31m# scoring.output(scores, 0.5)\u001b[0m\u001b[0;34m\u001b[0m\u001b[0;34m\u001b[0m\u001b[0;34m\u001b[0m\u001b[0m\n",
      "\u001b[0;31mNameError\u001b[0m: name 'scoring' is not defined"
     ]
    }
   ],
   "source": [
    "scoring.matching_set(scores, 0.5)\n",
    "# scoring.output(scores, 0.5)"
   ]
  },
  {
   "cell_type": "markdown",
   "metadata": {
    "colab_type": "text",
    "id": "oZALnsiVk7Oh"
   },
   "source": [
    "### Experiment without Movie"
   ]
  },
  {
   "cell_type": "code",
   "execution_count": 0,
   "metadata": {
    "colab": {},
    "colab_type": "code",
    "id": "kOmQlOLwk7Oj"
   },
   "outputs": [],
   "source": [
    "no_info = privacy_spark.Auxiliary(False, False, 0, 0)\n",
    "ratings_exact_date_3  = privacy_spark.Auxiliary(True, True, 0, 3)\n",
    "ratings_exact_date_14 = privacy_spark.Auxiliary(True, True, 0, 14)\n",
    "ratings_exact_date_0  = privacy_spark.Auxiliary(True, True, 0, 0)\n",
    "\n",
    "aux_list = 6*[ratings_exact_date_3]# + 2*[no_info]"
   ]
  },
  {
   "cell_type": "code",
   "execution_count": 12,
   "metadata": {
    "colab": {
     "base_uri": "https://localhost:8080/",
     "height": 238
    },
    "colab_type": "code",
    "executionInfo": {
     "elapsed": 29422,
     "status": "ok",
     "timestamp": 1584197582626,
     "user": {
      "displayName": "Vincent Henric",
      "photoUrl": "",
      "userId": "04147333351171011027"
     },
     "user_tz": -60
    },
    "id": "4bx2mogCiAo5",
    "outputId": "a3c2f24d-933e-4c0c-8848-fdd8bbcdd7aa"
   },
   "outputs": [
    {
     "data": {
      "text/html": [
       "<div>\n",
       "<style scoped>\n",
       "    .dataframe tbody tr th:only-of-type {\n",
       "        vertical-align: middle;\n",
       "    }\n",
       "\n",
       "    .dataframe tbody tr th {\n",
       "        vertical-align: top;\n",
       "    }\n",
       "\n",
       "    .dataframe thead th {\n",
       "        text-align: right;\n",
       "    }\n",
       "</style>\n",
       "<table border=\"1\" class=\"dataframe\">\n",
       "  <thead>\n",
       "    <tr style=\"text-align: right;\">\n",
       "      <th></th>\n",
       "      <th>custId</th>\n",
       "      <th>count</th>\n",
       "      <th>movieId</th>\n",
       "      <th>rating</th>\n",
       "      <th>days</th>\n",
       "      <th>rnw</th>\n",
       "    </tr>\n",
       "  </thead>\n",
       "  <tbody>\n",
       "    <tr>\n",
       "      <th>0</th>\n",
       "      <td>854575</td>\n",
       "      <td>837</td>\n",
       "      <td>13195</td>\n",
       "      <td>1</td>\n",
       "      <td>1829</td>\n",
       "      <td>1</td>\n",
       "    </tr>\n",
       "    <tr>\n",
       "      <th>1</th>\n",
       "      <td>854575</td>\n",
       "      <td>837</td>\n",
       "      <td>8636</td>\n",
       "      <td>3</td>\n",
       "      <td>1729</td>\n",
       "      <td>2</td>\n",
       "    </tr>\n",
       "    <tr>\n",
       "      <th>2</th>\n",
       "      <td>854575</td>\n",
       "      <td>837</td>\n",
       "      <td>1367</td>\n",
       "      <td>1</td>\n",
       "      <td>1821</td>\n",
       "      <td>3</td>\n",
       "    </tr>\n",
       "    <tr>\n",
       "      <th>3</th>\n",
       "      <td>854575</td>\n",
       "      <td>837</td>\n",
       "      <td>2862</td>\n",
       "      <td>4</td>\n",
       "      <td>1733</td>\n",
       "      <td>4</td>\n",
       "    </tr>\n",
       "    <tr>\n",
       "      <th>4</th>\n",
       "      <td>854575</td>\n",
       "      <td>837</td>\n",
       "      <td>14621</td>\n",
       "      <td>2</td>\n",
       "      <td>1733</td>\n",
       "      <td>5</td>\n",
       "    </tr>\n",
       "    <tr>\n",
       "      <th>5</th>\n",
       "      <td>854575</td>\n",
       "      <td>837</td>\n",
       "      <td>3071</td>\n",
       "      <td>2</td>\n",
       "      <td>1735</td>\n",
       "      <td>6</td>\n",
       "    </tr>\n",
       "  </tbody>\n",
       "</table>\n",
       "</div>"
      ],
      "text/plain": [
       "   custId  count  movieId  rating  days  rnw\n",
       "0  854575    837    13195       1  1829    1\n",
       "1  854575    837     8636       3  1729    2\n",
       "2  854575    837     1367       1  1821    3\n",
       "3  854575    837     2862       4  1733    4\n",
       "4  854575    837    14621       2  1733    5\n",
       "5  854575    837     3071       2  1735    6"
      ]
     },
     "execution_count": 12,
     "metadata": {
      "tags": []
     },
     "output_type": "execute_result"
    }
   ],
   "source": [
    "aux = exp.generate_auxiliary_data(aux_list, 1)\n",
    "aux"
   ]
  },
  {
   "cell_type": "code",
   "execution_count": 0,
   "metadata": {
    "colab": {},
    "colab_type": "code",
    "id": "nnNWhhAMW4ZV"
   },
   "outputs": [],
   "source": [
    "scoring = exp.get_scoring(similarity='netflix', with_movie=False)\n",
    "scores_individual = scoring.compute_individual_score(exp.spark.createDataFrame(aux), exp.df)"
   ]
  },
  {
   "cell_type": "code",
   "execution_count": 27,
   "metadata": {
    "colab": {
     "base_uri": "https://localhost:8080/",
     "height": 34
    },
    "colab_type": "code",
    "executionInfo": {
     "elapsed": 259937,
     "status": "ok",
     "timestamp": 1584204734028,
     "user": {
      "displayName": "Vincent Henric",
      "photoUrl": "",
      "userId": "04147333351171011027"
     },
     "user_tz": -60
    },
    "id": "rPqT7Ok5k7Or",
    "outputId": "31ac28c9-67a3-436d-9e41-06f6548a38ab"
   },
   "outputs": [
    {
     "data": {
      "text/plain": [
       "98.0"
      ]
     },
     "execution_count": 27,
     "metadata": {
      "tags": []
     },
     "output_type": "execute_result"
    }
   ],
   "source": [
    "# aux = exp.generate_auxiliary_data(aux_list, 1)\n",
    "# scores = exp.compute_score(aux, similarity='netflix', with_movie=False).sort('value', ascending=False)\n",
    "# scores.show()\n",
    "exp.evaluate(aux_list, N=100, similarity='netflix', with_movie=False)"
   ]
  }
 ],
 "metadata": {
  "colab": {
   "collapsed_sections": [],
   "name": "privacy_project_spark.ipynb",
   "provenance": []
  },
  "kernelspec": {
   "display_name": "Python 3",
   "language": "python",
   "name": "python3"
  },
  "language_info": {
   "codemirror_mode": {
    "name": "ipython",
    "version": 3
   },
   "file_extension": ".py",
   "mimetype": "text/x-python",
   "name": "python",
   "nbconvert_exporter": "python",
   "pygments_lexer": "ipython3",
   "version": "3.7.4"
  }
 },
 "nbformat": 4,
 "nbformat_minor": 1
}
