{
 "cells": [
  {
   "cell_type": "code",
   "execution_count": 148,
   "metadata": {},
   "outputs": [],
   "source": [
    "import pandas as pd\n",
    "import numpy as np\n",
    "import matplotlib.pyplot as plt\n",
    "import seaborn as sns\n",
    "\n",
    "import re\n",
    "from scipy import stats"
   ]
  },
  {
   "cell_type": "code",
   "execution_count": 3,
   "metadata": {},
   "outputs": [],
   "source": [
    "# exp0 = pd.read_csv('results/exp_0.txt')\n",
    "# exp0.head()"
   ]
  },
  {
   "cell_type": "code",
   "execution_count": 102,
   "metadata": {},
   "outputs": [],
   "source": [
    "def extract_result_dict(lines2):\n",
    "\n",
    "    k = 0\n",
    "    results = {}\n",
    "    results['index'] = []\n",
    "    results['aux'] = []\n",
    "    results['top_index'] = []\n",
    "    results['score'] = []\n",
    "    results['ecc'] = []\n",
    "    for i,line in enumerate(lines2):\n",
    "        if i==0:\n",
    "            continue\n",
    "        else:\n",
    "            try:\n",
    "                l = line.split(',')\n",
    "                results['index'].append(l[0])\n",
    "                results['aux'].append(parse_aux_dataframe(l[1]))\n",
    "                if len(l)>=3:\n",
    "                    results['top_index'].append(l[2])\n",
    "                    results['score'].append(l[3])\n",
    "                    results['ecc'].append(l[4])\n",
    "                else:\n",
    "                    results['top_index'].append(None)\n",
    "                    results['score'].append(None)\n",
    "                    results['ecc'].append(None)\n",
    "            except:\n",
    "                print(line)\n",
    "                continue\n",
    "    return results\n",
    "\n",
    "def parse_results(filename, with_header=True):\n",
    "    with open(\"results/{}\".format(filename), \"r\") as f:\n",
    "        lines = f.readlines()\n",
    "        \n",
    "    l = np.array([i for i,line in enumerate(lines) if line.startswith('custId')])\n",
    "    freq = stats.mode(np.diff(l)).mode[0]\n",
    "        \n",
    "    lines2 = ['']\n",
    "    l = ''\n",
    "    for i,line in enumerate(lines):\n",
    "        lines2[-1] += line\n",
    "        if i%freq==0:\n",
    "            lines2.append('')\n",
    "\n",
    "    if lines2[-1]=='':\n",
    "        lines2.pop(-1)\n",
    "        \n",
    "    results = extract_result_dict(lines2)\n",
    "    df = pd.DataFrame(results)\n",
    "    df = df.astype({'index':np.int32, 'aux':'object', 'top_index':np.int32, 'score':np.float32, 'ecc':np.float32})\n",
    "    return df\n",
    "\n",
    "def parse_aux_dataframe(s):\n",
    "    l2 = s.split('\\n')\n",
    "    col_names = re.sub(\"\\s\\s+\", \" \", l2[0]).strip().split(' ')\n",
    "    idx_name = l2[1].strip()\n",
    "    records = [re.sub(\"\\s\\s+\", \" \", line).split(' ') for line in l2[2:]]\n",
    "\n",
    "    df = pd.DataFrame(records, columns=[idx_name]+col_names).set_index(idx_name)\n",
    "    return df"
   ]
  },
  {
   "cell_type": "code",
   "execution_count": 152,
   "metadata": {},
   "outputs": [
    {
     "name": "stdout",
     "output_type": "stream",
     "text": [
      "nb experiments for exp_0.txt: 100\n",
      "nb experiments for exp_1.txt: 100\n",
      "nb experiments for exp_3.txt: 80\n",
      "nb experiments for exp_4.txt: 65\n",
      "parsing failed for exp_5.txt\n"
     ]
    }
   ],
   "source": [
    "import os\n",
    "filenames = sorted(os.listdir('results'))\n",
    "\n",
    "experiment_map = {'exp_0.txt':[2,2,3],\n",
    "                  'exp_1.txt':[3,4,3],\n",
    "                  'exp_2.txt':[6,8,3],\n",
    "                  'exp_3.txt':[2,2,14],\n",
    "                  'exp_4.txt':[3,4,14],\n",
    "                  'exp_5.txt':[6,8,14]}\n",
    "\n",
    "experiments = {}\n",
    "\n",
    "for filename in filenames:\n",
    "#     df = parse_results(filename, with_header=True)\n",
    "    try:\n",
    "        df = parse_results(filename, with_header=True)\n",
    "        print('nb experiments for {}: {}'.format(filename, len(df)))\n",
    "        experiments[filename] = df\n",
    "    except:\n",
    "        print('parsing failed for {}'.format(filename))\n",
    "        continue"
   ]
  },
  {
   "cell_type": "code",
   "execution_count": 150,
   "metadata": {},
   "outputs": [
    {
     "name": "stdout",
     "output_type": "stream",
     "text": [
      "experiment [2, 2, 3]\n",
      "0.38\n",
      "0.26\n",
      "experiment [3, 4, 3]\n",
      "0.75\n",
      "0.62\n",
      "experiment [2, 2, 14]\n",
      "0.4625\n",
      "0.35\n",
      "experiment [3, 4, 14]\n",
      "0.7538461538461538\n",
      "0.6615384615384615\n"
     ]
    }
   ],
   "source": [
    "statistics = {'nb_movies':[], 'days':[], 'proba':[]}\n",
    "for filename,df in experiments.items():\n",
    "    print('experiment {}'.format(experiment_map[filename]))\n",
    "    print((df['index'] == df['top_index']).sum()/len(df))\n",
    "    print(((df['index'] == df['top_index'])&(df['ecc']>=1.5)).sum()/len(df))\n",
    "    l = experiment_map[filename]\n",
    "    statistics['nb_movies'].append('{}-{}'.format(l[0],l[1]))\n",
    "    statistics['days'].append(l[2])\n",
    "    statistics['proba'].append(((df['index'] == df['top_index'])&(df['ecc']>=1.5)).sum()/len(df))"
   ]
  },
  {
   "cell_type": "code",
   "execution_count": 151,
   "metadata": {},
   "outputs": [
    {
     "data": {
      "text/plain": [
       "<matplotlib.axes._subplots.AxesSubplot at 0x7fd94e782410>"
      ]
     },
     "execution_count": 151,
     "metadata": {},
     "output_type": "execute_result"
    },
    {
     "data": {
      "image/png": "[encoded data removed]",
      "text/plain": [
       "<Figure size 432x288 with 1 Axes>"
      ]
     },
     "metadata": {
      "needs_background": "light"
     },
     "output_type": "display_data"
    }
   ],
   "source": [
    "df = pd.DataFrame(statistics)#.set_index(['nb_movies', 'days']).unstack()\n",
    "sns.barplot(x='nb_movies', y='proba', hue='days', data=df)"
   ]
  },
  {
   "cell_type": "code",
   "execution_count": 105,
   "metadata": {},
   "outputs": [
    {
     "data": {
      "text/plain": [
       "[<matplotlib.lines.Line2D at 0x7fd94ee66210>]"
      ]
     },
     "execution_count": 105,
     "metadata": {},
     "output_type": "execute_result"
    },
    {
     "data": {
      "image/png": "[encoded data removed]",
      "text/plain": [
       "<Figure size 432x288 with 1 Axes>"
      ]
     },
     "metadata": {
      "needs_background": "light"
     },
     "output_type": "display_data"
    }
   ],
   "source": [
    "plt.plot(df['ecc'])"
   ]
  },
  {
   "cell_type": "code",
   "execution_count": null,
   "metadata": {},
   "outputs": [],
   "source": []
  }
 ],
 "metadata": {
  "kernelspec": {
   "display_name": "Python 3",
   "language": "python",
   "name": "python3"
  },
  "language_info": {
   "codemirror_mode": {
    "name": "ipython",
    "version": 3
   },
   "file_extension": ".py",
   "mimetype": "text/x-python",
   "name": "python",
   "nbconvert_exporter": "python",
   "pygments_lexer": "ipython3",
   "version": "3.7.4"
  }
 },
 "nbformat": 4,
 "nbformat_minor": 4
}
